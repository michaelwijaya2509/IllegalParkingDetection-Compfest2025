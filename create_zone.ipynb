{
 "cells": [
  {
   "cell_type": "code",
   "execution_count": 1,
   "id": "8abb3fd7",
   "metadata": {},
   "outputs": [],
   "source": [
    "import cv2\n",
    "import json"
   ]
  },
  {
   "cell_type": "code",
   "execution_count": null,
   "id": "e917333e",
   "metadata": {},
   "outputs": [
    {
     "name": "stdout",
     "output_type": "stream",
     "text": [
      "Point added: (258, 316)\n",
      "Point added: (911, 1070)\n",
      "Point added: (1614, 1065)\n",
      "Point added: (402, 309)\n",
      "Zona merah disimpan ke zona_vietnam2.json\n"
     ]
    }
   ],
   "source": [
    "VIDEO_PATH = r\"video/vietnam2.mp4\"\n",
    "OUTPUT_JSON = 'zona_vietnam2.json'\n",
    "\n",
    "points = []\n",
    "\n",
    "# Klik titik dan koordinat area nya muncul\n",
    "def draw_polygon(event, x, y, flags, param):\n",
    "    if event == cv2.EVENT_LBUTTONDOWN:\n",
    "        points.append((x, y))\n",
    "        print(f\"Point added: ({x}, {y})\")\n",
    "\n",
    "def set_redzone():\n",
    "    cap = cv2.VideoCapture(VIDEO_PATH)\n",
    "    ret, frame = cap.read()\n",
    "    if not ret:\n",
    "        print(\"Gagal membuka video.\")\n",
    "        return\n",
    "\n",
    "    clone = frame.copy()\n",
    "    cv2.namedWindow(\"Set Zona Merah\")\n",
    "    cv2.setMouseCallback(\"Set Zona Merah\", draw_polygon)\n",
    "\n",
    "    while True:\n",
    "        temp = clone.copy()\n",
    "\n",
    "        for i, point in enumerate(points):\n",
    "            cv2.circle(temp, point, 5, (0, 0, 255), -1)\n",
    "            if i > 0:\n",
    "                cv2.line(temp, points[i - 1], point, (0, 0, 255), 2)\n",
    "\n",
    "        if len(points) > 2:\n",
    "            cv2.line(temp, points[-1], points[0], (0, 0, 255), 2)\n",
    "\n",
    "        cv2.imshow(\"Set Zona Merah\", temp)\n",
    "        key = cv2.waitKey(1)\n",
    "\n",
    "        if key == ord('q'):\n",
    "            break\n",
    "        elif key == ord('s') and len(points) >= 3:\n",
    "            with open(OUTPUT_JSON, 'w') as f:\n",
    "                json.dump(points, f)\n",
    "            print(f\"Zona merah disimpan ke {OUTPUT_JSON}\")\n",
    "            break\n",
    "\n",
    "    cap.release()\n",
    "    cv2.destroyAllWindows()\n",
    "\n",
    "# Jalankan\n",
    "set_redzone()"
   ]
  }
 ],
 "metadata": {
  "kernelspec": {
   "display_name": "Python 3",
   "language": "python",
   "name": "python3"
  },
  "language_info": {
   "codemirror_mode": {
    "name": "ipython",
    "version": 3
   },
   "file_extension": ".py",
   "mimetype": "text/x-python",
   "name": "python",
   "nbconvert_exporter": "python",
   "pygments_lexer": "ipython3",
   "version": "3.11.4"
  }
 },
 "nbformat": 4,
 "nbformat_minor": 5
}
