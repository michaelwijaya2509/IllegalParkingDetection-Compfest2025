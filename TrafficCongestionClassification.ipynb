{
  "cells": [
    {
      "cell_type": "code",
      "execution_count": null,
      "metadata": {
        "colab": {
          "base_uri": "https://localhost:8080/"
        },
        "id": "ibD-KlyyMbAg",
        "outputId": "c6ffd770-e574-4bc4-d006-4963275b00bc"
      },
      "outputs": [],
      "source": [
        "!pip install efficientnet_pytorch"
      ]
    },
    {
      "cell_type": "code",
      "execution_count": 2,
      "metadata": {
        "id": "LKofm-Y-7QOn"
      },
      "outputs": [],
      "source": [
        "import numpy as np\n",
        "import pandas as pd\n",
        "import os\n",
        "import zipfile\n",
        "from tqdm import tqdm\n",
        "from PIL import Image\n",
        "from efficientnet_pytorch import EfficientNet\n",
        "import time\n",
        "import copy\n",
        "from sklearn.model_selection import train_test_split\n",
        "\n",
        "\n",
        "import torch\n",
        "import torchvision\n",
        "from torch import nn\n",
        "from torch.utils.data import DataLoader\n",
        "from torch.utils.data.dataset import Dataset\n",
        "from torchvision import transforms\n",
        "from torch.optim import Adam\n",
        "\n",
        "import warnings\n",
        "\n",
        "import mlflow, mlflow.pytorch\n",
        "\n",
        "\n",
        "\n",
        "warnings.filterwarnings('always')\n",
        "warnings.filterwarnings('ignore')"
      ]
    },
    {
      "cell_type": "code",
      "execution_count": 3,
      "metadata": {},
      "outputs": [
        {
          "data": {
            "text/plain": [
              "<Experiment: artifact_location='mlflow-artifacts:/752962008456535285', creation_time=1754589098524, experiment_id='752962008456535285', last_update_time=1754589098524, lifecycle_stage='active', name='congestion_classifier', tags={}>"
            ]
          },
          "execution_count": 3,
          "metadata": {},
          "output_type": "execute_result"
        }
      ],
      "source": [
        "# 1️⃣ Hubungkan ke MLflow Server (UI harus sudah dijalankan)\n",
        "mlflow.set_tracking_uri(\"http://localhost:5000\")\n",
        "\n",
        "# 2️⃣ (Opsional tapi disarankan) Set experiment\n",
        "mlflow.set_experiment(\"congestion_classifier\")"
      ]
    },
    {
      "cell_type": "markdown",
      "metadata": {
        "id": "Db1NrMbOBj4l"
      },
      "source": [
        "#EXTRACT DATA"
      ]
    },
    {
      "cell_type": "code",
      "execution_count": 4,
      "metadata": {
        "colab": {
          "base_uri": "https://localhost:8080/"
        },
        "id": "5Hxvb-w4AOoO",
        "outputId": "8397d307-09c6-4500-f0b7-34e6ba2a595f"
      },
      "outputs": [
        {
          "ename": "FileNotFoundError",
          "evalue": "[Errno 2] No such file or directory: 'congestion.zip'",
          "output_type": "error",
          "traceback": [
            "\u001b[1;31m---------------------------------------------------------------------------\u001b[0m",
            "\u001b[1;31mFileNotFoundError\u001b[0m                         Traceback (most recent call last)",
            "Cell \u001b[1;32mIn[4], line 3\u001b[0m\n\u001b[0;32m      1\u001b[0m os\u001b[38;5;241m.\u001b[39mmakedirs(\u001b[38;5;124m\"\u001b[39m\u001b[38;5;124mcongestion\u001b[39m\u001b[38;5;124m\"\u001b[39m, exist_ok\u001b[38;5;241m=\u001b[39m\u001b[38;5;28;01mTrue\u001b[39;00m)\n\u001b[1;32m----> 3\u001b[0m \u001b[38;5;28;01mwith\u001b[39;00m \u001b[43mzipfile\u001b[49m\u001b[38;5;241;43m.\u001b[39;49m\u001b[43mZipFile\u001b[49m\u001b[43m(\u001b[49m\u001b[38;5;124;43m\"\u001b[39;49m\u001b[38;5;124;43mcongestion.zip\u001b[39;49m\u001b[38;5;124;43m\"\u001b[39;49m\u001b[43m,\u001b[49m\u001b[43m \u001b[49m\u001b[38;5;124;43m'\u001b[39;49m\u001b[38;5;124;43mr\u001b[39;49m\u001b[38;5;124;43m'\u001b[39;49m\u001b[43m)\u001b[49m \u001b[38;5;28;01mas\u001b[39;00m zip_ref:\n\u001b[0;32m      4\u001b[0m     zip_ref\u001b[38;5;241m.\u001b[39mextractall(\u001b[38;5;124m\"\u001b[39m\u001b[38;5;124mcongestion\u001b[39m\u001b[38;5;124m\"\u001b[39m)\n\u001b[0;32m      6\u001b[0m folders \u001b[38;5;241m=\u001b[39m os\u001b[38;5;241m.\u001b[39mlistdir(\u001b[38;5;124m\"\u001b[39m\u001b[38;5;124mcongestion\u001b[39m\u001b[38;5;124m\"\u001b[39m)\n",
            "File \u001b[1;32mc:\\Users\\andre\\anaconda3\\envs\\datsci\\lib\\zipfile.py:1254\u001b[0m, in \u001b[0;36mZipFile.__init__\u001b[1;34m(self, file, mode, compression, allowZip64, compresslevel, strict_timestamps)\u001b[0m\n\u001b[0;32m   1252\u001b[0m \u001b[38;5;28;01mwhile\u001b[39;00m \u001b[38;5;28;01mTrue\u001b[39;00m:\n\u001b[0;32m   1253\u001b[0m     \u001b[38;5;28;01mtry\u001b[39;00m:\n\u001b[1;32m-> 1254\u001b[0m         \u001b[38;5;28mself\u001b[39m\u001b[38;5;241m.\u001b[39mfp \u001b[38;5;241m=\u001b[39m \u001b[43mio\u001b[49m\u001b[38;5;241;43m.\u001b[39;49m\u001b[43mopen\u001b[49m\u001b[43m(\u001b[49m\u001b[43mfile\u001b[49m\u001b[43m,\u001b[49m\u001b[43m \u001b[49m\u001b[43mfilemode\u001b[49m\u001b[43m)\u001b[49m\n\u001b[0;32m   1255\u001b[0m     \u001b[38;5;28;01mexcept\u001b[39;00m \u001b[38;5;167;01mOSError\u001b[39;00m:\n\u001b[0;32m   1256\u001b[0m         \u001b[38;5;28;01mif\u001b[39;00m filemode \u001b[38;5;129;01min\u001b[39;00m modeDict:\n",
            "\u001b[1;31mFileNotFoundError\u001b[0m: [Errno 2] No such file or directory: 'congestion.zip'"
          ]
        }
      ],
      "source": [
        "os.makedirs(\"congestion\", exist_ok=True)\n",
        "\n",
        "with zipfile.ZipFile(\"congestion.zip\", 'r') as zip_ref:\n",
        "    zip_ref.extractall(\"congestion\")\n",
        "\n",
        "folders = os.listdir(\"congestion\")\n",
        "print(folders)\n",
        "\n",
        "path_v1 = os.path.join(\"congestion\", \"trafficnet_dataset_v1\")\n",
        "path_train = os.path.join(path_v1, \"train\")\n",
        "path_sparse = os.path.join(path_train, \"sparse_traffic\")\n",
        "path_dense = os.path.join(path_train, \"dense_traffic\")"
      ]
    },
    {
      "cell_type": "code",
      "execution_count": 4,
      "metadata": {
        "colab": {
          "base_uri": "https://localhost:8080/",
          "height": 206
        },
        "id": "Bt7G7RKmBeu1",
        "outputId": "f5304daa-2c5b-4794-8a5b-b8c2ee574f03"
      },
      "outputs": [
        {
          "data": {
            "text/html": [
              "<div>\n",
              "<style scoped>\n",
              "    .dataframe tbody tr th:only-of-type {\n",
              "        vertical-align: middle;\n",
              "    }\n",
              "\n",
              "    .dataframe tbody tr th {\n",
              "        vertical-align: top;\n",
              "    }\n",
              "\n",
              "    .dataframe thead th {\n",
              "        text-align: right;\n",
              "    }\n",
              "</style>\n",
              "<table border=\"1\" class=\"dataframe\">\n",
              "  <thead>\n",
              "    <tr style=\"text-align: right;\">\n",
              "      <th></th>\n",
              "      <th>image</th>\n",
              "      <th>congestion</th>\n",
              "    </tr>\n",
              "  </thead>\n",
              "  <tbody>\n",
              "    <tr>\n",
              "      <th>0</th>\n",
              "      <td>congestion\\trafficnet_dataset_v1\\train\\sparse_...</td>\n",
              "      <td>0</td>\n",
              "    </tr>\n",
              "    <tr>\n",
              "      <th>1</th>\n",
              "      <td>congestion\\trafficnet_dataset_v1\\train\\sparse_...</td>\n",
              "      <td>0</td>\n",
              "    </tr>\n",
              "    <tr>\n",
              "      <th>2</th>\n",
              "      <td>congestion\\trafficnet_dataset_v1\\train\\sparse_...</td>\n",
              "      <td>0</td>\n",
              "    </tr>\n",
              "    <tr>\n",
              "      <th>3</th>\n",
              "      <td>congestion\\trafficnet_dataset_v1\\train\\sparse_...</td>\n",
              "      <td>0</td>\n",
              "    </tr>\n",
              "    <tr>\n",
              "      <th>4</th>\n",
              "      <td>congestion\\trafficnet_dataset_v1\\train\\sparse_...</td>\n",
              "      <td>0</td>\n",
              "    </tr>\n",
              "  </tbody>\n",
              "</table>\n",
              "</div>"
            ],
            "text/plain": [
              "                                               image  congestion\n",
              "0  congestion\\trafficnet_dataset_v1\\train\\sparse_...           0\n",
              "1  congestion\\trafficnet_dataset_v1\\train\\sparse_...           0\n",
              "2  congestion\\trafficnet_dataset_v1\\train\\sparse_...           0\n",
              "3  congestion\\trafficnet_dataset_v1\\train\\sparse_...           0\n",
              "4  congestion\\trafficnet_dataset_v1\\train\\sparse_...           0"
            ]
          },
          "metadata": {},
          "output_type": "display_data"
        }
      ],
      "source": [
        "df_list = []\n",
        "\n",
        "for f in os.listdir(path_dense):\n",
        "  file_path = os.path.join(path_dense, f)\n",
        "  if os.path.isfile(file_path):\n",
        "    df_list.append({\n",
        "        'image': str(file_path),\n",
        "        'congestion': 1\n",
        "    })\n",
        "\n",
        "for f in os.listdir(path_sparse):\n",
        "  file_path = os.path.join(path_sparse, f)\n",
        "  if os.path.isfile(file_path):\n",
        "    df_list.append({\n",
        "        'image': str(file_path),\n",
        "        'congestion': 0\n",
        "    })\n",
        "\n",
        "df = pd.DataFrame(df_list)\n",
        "df = df.sample(frac=1, random_state=42).reset_index(drop=True)\n",
        "display(df.head())"
      ]
    },
    {
      "cell_type": "markdown",
      "metadata": {
        "id": "iHqEt404Bpep"
      },
      "source": [
        "#CONFIGS"
      ]
    },
    {
      "cell_type": "code",
      "execution_count": 5,
      "metadata": {
        "colab": {
          "base_uri": "https://localhost:8080/"
        },
        "id": "hjB6H0k5VqPd",
        "outputId": "a9571516-7e8e-4215-80f1-1253bf854e7e"
      },
      "outputs": [
        {
          "name": "stdout",
          "output_type": "stream",
          "text": [
            "Using device: cuda\n"
          ]
        }
      ],
      "source": [
        "DEVICE = torch.device(\"cuda\" if torch.cuda.is_available() else \"cpu\")\n",
        "print(f\"Using device: {DEVICE}\")\n",
        "\n",
        "RANDOM_STATE = 42\n",
        "MODEL_VERSION = 'efficientnet-b0'\n",
        "BATCH_SIZE = 32\n",
        "EPOCHS = 5\n",
        "LEARNING_RATE = 3e-4\n",
        "RETRAIN = False\n",
        "CHECKPOINT_TO_LOAD = 'best_congestion_classifier.pt'"
      ]
    },
    {
      "cell_type": "code",
      "execution_count": 6,
      "metadata": {
        "id": "XBrCiuIFH__W"
      },
      "outputs": [],
      "source": [
        "class CongestionDataset(Dataset):\n",
        "\n",
        "  def __init__(self, dataframe):\n",
        "    self.dataframe = dataframe\n",
        "\n",
        "    self.transform = transforms.Compose([\n",
        "        transforms.Resize((224, 224)),\n",
        "        transforms.ToTensor(),\n",
        "        transforms.Normalize([0.485, 0.456, 0.406], [0.229, 0.224, 0.225])\n",
        "    ])\n",
        "\n",
        "  def __getitem__(self, key):\n",
        "    row = self.dataframe.iloc[key]\n",
        "    image = self.transform(Image.open(row['image']))\n",
        "    label = torch.tensor(row['congestion'], dtype=torch.float32)\n",
        "    return image,label.unsqueeze(0)\n",
        "\n",
        "  def __len__(self):\n",
        "    return len(self.dataframe)"
      ]
    },
    {
      "cell_type": "code",
      "execution_count": 7,
      "metadata": {
        "id": "SkujEfcUQ2K6"
      },
      "outputs": [],
      "source": [
        "train_df, val_df = train_test_split(df, test_size=0.1, random_state=42, stratify=df['congestion'])\n",
        "\n",
        "train_dataset = CongestionDataset(train_df)\n",
        "val_dataset = CongestionDataset(val_df)\n",
        "\n",
        "dataloaders = {\n",
        "    'train': DataLoader(train_dataset, batch_size=32, shuffle=True, num_workers=0),\n",
        "    'val': DataLoader(val_dataset, batch_size=32, shuffle=True, num_workers=0)\n",
        "}\n",
        "\n",
        "dataset_sizes = {\n",
        "    'train': len(train_dataset),\n",
        "    'val': len(val_dataset)\n",
        "}\n"
      ]
    },
    {
      "cell_type": "markdown",
      "metadata": {
        "id": "eNl0r7D-UGkv"
      },
      "source": [
        "#Modeling"
      ]
    },
    {
      "cell_type": "code",
      "execution_count": 8,
      "metadata": {
        "colab": {
          "base_uri": "https://localhost:8080/"
        },
        "id": "ryxIvsr-UJGU",
        "outputId": "71070b1f-ca37-437e-d2b0-3a73af88804a"
      },
      "outputs": [
        {
          "name": "stdout",
          "output_type": "stream",
          "text": [
            "Loaded pretrained weights for efficientnet-b0\n"
          ]
        }
      ],
      "source": [
        "model = EfficientNet.from_pretrained(\"efficientnet-b0\")\n",
        "\n",
        "for param in model.parameters():\n",
        "  param.requires_grad = False\n",
        "\n",
        "num_ftrs = model._fc.in_features\n",
        "model._fc = nn.Linear(num_ftrs, 1)"
      ]
    },
    {
      "cell_type": "code",
      "execution_count": 9,
      "metadata": {
        "id": "w9CkzQuPVUgT"
      },
      "outputs": [],
      "source": [
        "def train_model(model, criterion, optimizer, dataloaders, device, num_epochs=10, checkpoint_path='best_model.pt'):\n",
        "\n",
        "    with mlflow.start_run(run_name=\"congestion-classifier-v1\"):\n",
        "\n",
        "        # Logging params\n",
        "        mlflow.log_param(\"model_version\", MODEL_VERSION)\n",
        "        mlflow.log_param(\"batch_size\", BATCH_SIZE)\n",
        "        mlflow.log_param(\"learning_rate\", LEARNING_RATE)\n",
        "        mlflow.log_param(\"epochs\", num_epochs)\n",
        "\n",
        "        since = time.time()\n",
        "        best_model_wts = copy.deepcopy(model.state_dict())\n",
        "        best_acc = 0.0\n",
        "\n",
        "        for epoch in range(num_epochs):\n",
        "            print(f'Epoch {epoch+1}/{num_epochs}')\n",
        "            print('-' * 10)\n",
        "\n",
        "            for phase in ['train', 'val']:\n",
        "                if phase == 'train':\n",
        "                    model.train()\n",
        "                else:\n",
        "                    model.eval()\n",
        "\n",
        "                running_loss = 0.0\n",
        "                running_corrects = 0\n",
        "\n",
        "                for inputs, labels in tqdm(dataloaders[phase], desc=f\"{phase} phase\"):\n",
        "                    inputs = inputs.to(device)\n",
        "                    labels = labels.to(device)\n",
        "\n",
        "                    optimizer.zero_grad()\n",
        "\n",
        "                    with torch.set_grad_enabled(phase == 'train'):\n",
        "                        outputs = model(inputs)\n",
        "\n",
        "                        loss = criterion(outputs, labels)\n",
        "\n",
        "                        preds = torch.sigmoid(outputs) > 0.5\n",
        "\n",
        "                        if phase == 'train':\n",
        "                            loss.backward()\n",
        "                            optimizer.step()\n",
        "\n",
        "                    running_loss += loss.item() * inputs.size(0)\n",
        "                    running_corrects += torch.sum(preds == labels.data)\n",
        "\n",
        "                epoch_loss = running_loss / dataset_sizes[phase]\n",
        "                epoch_acc = running_corrects.double() / dataset_sizes[phase]\n",
        "\n",
        "                print(f'{phase.capitalize()} Loss: {epoch_loss:.4f} Acc: {epoch_acc:.4f}')\n",
        "\n",
        "                # ✅ Log metrics ke MLflow\n",
        "                mlflow.log_metric(f\"{phase}_loss\", epoch_loss, step=epoch)\n",
        "                mlflow.log_metric(f\"{phase}_acc\", epoch_acc, step=epoch)\n",
        "\n",
        "                if phase == 'val' and epoch_acc > best_acc:\n",
        "                    best_acc = epoch_acc\n",
        "                    best_model_wts = copy.deepcopy(model.state_dict())\n",
        "                    torch.save({\n",
        "                        'epoch': epoch,\n",
        "                        'model_state_dict': model.state_dict(),\n",
        "                        'optimizer_state_dict': optimizer.state_dict(),\n",
        "                        'best_accuracy': best_acc,\n",
        "                    }, checkpoint_path)\n",
        "\n",
        "        time_elapsed = time.time() - since\n",
        "        print(f'Best val Acc: {best_acc:4f}')\n",
        "        # ✅ Log model ke MLflow\n",
        "        mlflow.pytorch.log_model(model, \"model\")\n",
        "\n",
        "        # Register model ke registry bernama \"efficientnet_congestion\"\n",
        "        mlflow.register_model(\n",
        "        \"runs:/\" + mlflow.active_run().info.run_id + \"/model\",\n",
        "        \"efficientnet_congestion\"\n",
        "        )\n",
        "\n",
        "\n",
        "        # ✅ Log model checkpoint file\n",
        "        if os.path.exists(checkpoint_path):\n",
        "            mlflow.log_artifact(checkpoint_path)\n",
        "\n",
        "        mlflow.end_run()\n",
        "\n",
        "        model.load_state_dict(best_model_wts)\n",
        "        return model"
      ]
    },
    {
      "cell_type": "code",
      "execution_count": 10,
      "metadata": {
        "id": "KqM9h9RBqcIS"
      },
      "outputs": [],
      "source": [
        "def predict_image(model, image_path, device):\n",
        "\n",
        "    model.eval()\n",
        "\n",
        "    transform = transforms.Compose([\n",
        "        transforms.Resize((224, 224)),\n",
        "        transforms.ToTensor(),\n",
        "        transforms.Normalize(mean=[0.485, 0.456, 0.406], std=[0.229, 0.224, 0.225])\n",
        "    ])\n",
        "\n",
        "    image = Image.open(image_path).convert('RGB')\n",
        "    image_tensor = transform(image)\n",
        "    image_tensor = image_tensor.unsqueeze(0)\n",
        "    image_tensor = image_tensor.to(device)\n",
        "\n",
        "    with torch.no_grad():\n",
        "        output = model(image_tensor)\n",
        "        prob = torch.sigmoid(output)\n",
        "        prob_value = prob.item()\n",
        "\n",
        "    prediction = \"Dense\" if prob_value > 0.5 else \"Sparse\"\n",
        "\n",
        "    return prediction, prob_value\n"
      ]
    },
    {
      "cell_type": "code",
      "execution_count": 11,
      "metadata": {
        "colab": {
          "base_uri": "https://localhost:8080/"
        },
        "id": "dC-WWY9XtfJS",
        "outputId": "3b4f62fe-fa16-4d20-90d8-5f5f392309a8"
      },
      "outputs": [
        {
          "name": "stdout",
          "output_type": "stream",
          "text": [
            "Epoch 1/5\n",
            "----------\n"
          ]
        },
        {
          "name": "stderr",
          "output_type": "stream",
          "text": [
            "train phase: 100%|██████████| 62/62 [00:28<00:00,  2.15it/s]\n"
          ]
        },
        {
          "name": "stdout",
          "output_type": "stream",
          "text": [
            "Train Loss: 0.6365 Acc: 0.7066\n"
          ]
        },
        {
          "name": "stderr",
          "output_type": "stream",
          "text": [
            "val phase: 100%|██████████| 7/7 [00:02<00:00,  2.48it/s]\n"
          ]
        },
        {
          "name": "stdout",
          "output_type": "stream",
          "text": [
            "Val Loss: 0.5618 Acc: 0.8136\n",
            "Epoch 2/5\n",
            "----------\n"
          ]
        },
        {
          "name": "stderr",
          "output_type": "stream",
          "text": [
            "train phase: 100%|██████████| 62/62 [00:11<00:00,  5.40it/s]\n"
          ]
        },
        {
          "name": "stdout",
          "output_type": "stream",
          "text": [
            "Train Loss: 0.5088 Acc: 0.8742\n"
          ]
        },
        {
          "name": "stderr",
          "output_type": "stream",
          "text": [
            "val phase: 100%|██████████| 7/7 [00:01<00:00,  5.75it/s]\n"
          ]
        },
        {
          "name": "stdout",
          "output_type": "stream",
          "text": [
            "Val Loss: 0.4568 Acc: 0.8727\n",
            "Epoch 3/5\n",
            "----------\n"
          ]
        },
        {
          "name": "stderr",
          "output_type": "stream",
          "text": [
            "train phase: 100%|██████████| 62/62 [00:11<00:00,  5.44it/s]\n"
          ]
        },
        {
          "name": "stdout",
          "output_type": "stream",
          "text": [
            "Train Loss: 0.4357 Acc: 0.8828\n"
          ]
        },
        {
          "name": "stderr",
          "output_type": "stream",
          "text": [
            "val phase: 100%|██████████| 7/7 [00:01<00:00,  5.64it/s]\n"
          ]
        },
        {
          "name": "stdout",
          "output_type": "stream",
          "text": [
            "Val Loss: 0.3928 Acc: 0.8864\n",
            "Epoch 4/5\n",
            "----------\n"
          ]
        },
        {
          "name": "stderr",
          "output_type": "stream",
          "text": [
            "train phase: 100%|██████████| 62/62 [00:11<00:00,  5.43it/s]\n"
          ]
        },
        {
          "name": "stdout",
          "output_type": "stream",
          "text": [
            "Train Loss: 0.3905 Acc: 0.8879\n"
          ]
        },
        {
          "name": "stderr",
          "output_type": "stream",
          "text": [
            "val phase: 100%|██████████| 7/7 [00:01<00:00,  5.58it/s]\n"
          ]
        },
        {
          "name": "stdout",
          "output_type": "stream",
          "text": [
            "Val Loss: 0.3566 Acc: 0.9136\n",
            "Epoch 5/5\n",
            "----------\n"
          ]
        },
        {
          "name": "stderr",
          "output_type": "stream",
          "text": [
            "train phase: 100%|██████████| 62/62 [00:11<00:00,  5.41it/s]\n"
          ]
        },
        {
          "name": "stdout",
          "output_type": "stream",
          "text": [
            "Train Loss: 0.3512 Acc: 0.8949\n"
          ]
        },
        {
          "name": "stderr",
          "output_type": "stream",
          "text": [
            "val phase: 100%|██████████| 7/7 [00:01<00:00,  5.68it/s]\n",
            "2025/08/08 01:00:20 WARNING mlflow.models.model: `artifact_path` is deprecated. Please use `name` instead.\n"
          ]
        },
        {
          "name": "stdout",
          "output_type": "stream",
          "text": [
            "Val Loss: 0.3341 Acc: 0.8955\n",
            "Best val Acc: 0.913636\n"
          ]
        },
        {
          "name": "stderr",
          "output_type": "stream",
          "text": [
            "2025/08/08 01:00:29 WARNING mlflow.models.model: Model logged without a signature and input example. Please set `input_example` parameter when logging the model to auto infer the model signature.\n",
            "Registered model 'efficientnet_congestion' already exists. Creating a new version of this model...\n",
            "2025/08/08 01:00:30 WARNING mlflow.tracking._model_registry.fluent: Run with id c4bc291ca3434cc39913c91cef45a61d has no artifacts at artifact path 'model', registering model based on models:/m-7f54f62ba94c4226897f2e27d93dcc25 instead\n",
            "2025/08/08 01:00:30 INFO mlflow.store.model_registry.abstract_store: Waiting up to 300 seconds for model version to finish creation. Model name: efficientnet_congestion, version 1\n",
            "Created version '1' of model 'efficientnet_congestion'.\n"
          ]
        },
        {
          "name": "stdout",
          "output_type": "stream",
          "text": [
            "🏃 View run congestion-classifier-v1 at: http://localhost:5000/#/experiments/752962008456535285/runs/c4bc291ca3434cc39913c91cef45a61d\n",
            "🧪 View experiment at: http://localhost:5000/#/experiments/752962008456535285\n"
          ]
        }
      ],
      "source": [
        "if __name__ == '__main__':\n",
        "\n",
        "    model = model.to(DEVICE)\n",
        "\n",
        "    criterion = nn.BCEWithLogitsLoss()\n",
        "    optimizer = Adam(model._fc.parameters(), lr=LEARNING_RATE)\n",
        "\n",
        "    if RETRAIN and os.path.exists(CHECKPOINT_TO_LOAD):\n",
        "        checkpoint = torch.load(CHECKPOINT_TO_LOAD, map_location=DEVICE)\n",
        "        model.load_state_dict(checkpoint['model_state_dict'])\n",
        "        print(\"Checkpoint loaded.\")\n",
        "\n",
        "    trained_model = train_model(model, criterion, optimizer, dataloaders, DEVICE, num_epochs=EPOCHS, checkpoint_path=CHECKPOINT_TO_LOAD)"
      ]
    },
    {
      "cell_type": "code",
      "execution_count": 25,
      "metadata": {
        "colab": {
          "base_uri": "https://localhost:8080/"
        },
        "id": "DyL0WUNJxjSU",
        "outputId": "4b207df1-8ba9-42d8-e6c0-cc8b2e700740"
      },
      "outputs": [
        {
          "name": "stdout",
          "output_type": "stream",
          "text": [
            "\n",
            "Gambar: test.png\n",
            "Prediksi: Dense\n",
            "Probabilitas (Dense): 0.7228\n"
          ]
        }
      ],
      "source": [
        "checkpoint = torch.load(CHECKPOINT_TO_LOAD, map_location=DEVICE)\n",
        "model.load_state_dict(checkpoint['model_state_dict'])\n",
        "inference_model = model.to(DEVICE)\n",
        "\n",
        "SAMPLE_IMAGE_PATH = \"test.png\"\n",
        "\n",
        "if os.path.exists(SAMPLE_IMAGE_PATH):\n",
        "    predicted_class, probability = predict_image(inference_model, SAMPLE_IMAGE_PATH, DEVICE)\n",
        "\n",
        "    print(f\"\\nGambar: {SAMPLE_IMAGE_PATH}\")\n",
        "    print(f\"Prediksi: {predicted_class}\")\n",
        "    print(f\"Probabilitas (Dense): {probability:.4f}\")\n",
        "\n",
        "else:\n",
        "    print(f\"\\nError: File gambar ga ketemu\")"
      ]
    }
  ],
  "metadata": {
    "accelerator": "GPU",
    "colab": {
      "gpuType": "T4",
      "provenance": []
    },
    "kernelspec": {
      "display_name": "datsci",
      "language": "python",
      "name": "python3"
    },
    "language_info": {
      "codemirror_mode": {
        "name": "ipython",
        "version": 3
      },
      "file_extension": ".py",
      "mimetype": "text/x-python",
      "name": "python",
      "nbconvert_exporter": "python",
      "pygments_lexer": "ipython3",
      "version": "3.10.15"
    }
  },
  "nbformat": 4,
  "nbformat_minor": 0
}
