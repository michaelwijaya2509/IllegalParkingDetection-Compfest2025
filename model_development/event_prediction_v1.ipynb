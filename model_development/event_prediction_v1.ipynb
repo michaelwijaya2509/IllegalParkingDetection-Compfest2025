{
 "cells": [
  {
   "cell_type": "code",
   "execution_count": 22,
   "metadata": {},
   "outputs": [],
   "source": [
    "import os\n",
    "import glob\n",
    "import warnings\n",
    "import random\n",
    "import json\n",
    "import math\n",
    "import logging\n",
    "from pathlib import Path\n",
    "from datetime import datetime\n",
    "import numpy as np\n",
    "import pandas as pd\n",
    "import zipfile\n",
    "from typing import Tuple, List, Dict, Any, Optional\n",
    "import copy\n",
    "from pathlib import Path\n",
    "from typing import List, Tuple\n",
    "from collections import Counter, defaultdict\n",
    "\n",
    "from PIL import Image\n",
    "import cv2\n",
    "\n",
    "import torch\n",
    "import torch.nn as nn\n",
    "import torch.nn.functional as F\n",
    "from torch.utils.data import Dataset, DataLoader, SubsetRandomSampler, WeightedRandomSampler\n",
    "from torch.optim import AdamW\n",
    "from torch.optim.lr_scheduler import OneCycleLR, CosineAnnealingWarmRestarts\n",
    "import torchvision.transforms as transforms\n",
    "from torchvision.models import efficientnet_b3, EfficientNet_B3_Weights \n",
    "\n",
    "from sklearn.model_selection import StratifiedKFold, train_test_split, GroupShuffleSplit\n",
    "from sklearn.metrics import accuracy_score, precision_score, recall_score, f1_score, confusion_matrix, classification_report\n",
    "import matplotlib.pyplot as plt\n",
    "import seaborn as sns\n",
    "from tqdm.auto import tqdm\n",
    "\n",
    "import mlflow\n",
    "import mlflow.pytorch\n",
    "from mlflow.tracking import MlflowClient\n",
    "\n",
    "warnings.filterwarnings('ignore')"
   ]
  },
  {
   "cell_type": "code",
   "execution_count": 23,
   "metadata": {},
   "outputs": [],
   "source": [
    "logging.basicConfig(\n",
    "    level=logging.INFO,\n",
    "    format='%(asctime)s - %(name)s - %(levelname)s - %(message)s'\n",
    ")\n",
    "logger = logging.getLogger(__name__)"
   ]
  },
  {
   "cell_type": "code",
   "execution_count": null,
   "metadata": {},
   "outputs": [],
   "source": [
    "class CNNLSTMConfig:\n",
    "    # Data shape\n",
    "    IMAGE_SIZE = (224, 224)     \n",
    "    NUM_CLASSES = 2             \n",
    "    SEQ_LEN = 16               # Jumlah frame per sequence\n",
    "\n",
    "    # Model backbone\n",
    "    MODEL_NAME = \"efficientnet_b3\"\n",
    "    CNN_FEATURE_SIZE = 1536     # output EfficientNet-B7 (n_channels)\n",
    "    LSTM_HIDDEN_SIZE = 128      # ukuran hidden state LSTM\n",
    "    LSTM_NUM_LAYERS = 1       # 2 layers LSTM buat deeper understanding\n",
    "    DROPOUT = 0.6\n",
    "    ATTENTION_HEADS = 4          # jumlah attention heads untuk multi-head attention\n",
    "\n",
    "    FEATURE_ADAPTER_DIM = 128   # dimensi adapter sebelum LSTM\n",
    "    NUM_ATTENTION_HEADS = 4     # multi-head attention\n",
    "    ATTENTION_DROPOUT = 0.1\n",
    "    USE_RESIDUAL = True         # residual connections dalam LSTM\n",
    "    USE_BIDIRECTIONAL = True    # bidirectional LSTM\n",
    "\n",
    "    # Training params\n",
    "    BATCH_SIZE = 4              # batch dalam sequence, jadi total frame = BATCH_SIZE*SEQ_LEN\n",
    "    EPOCHS = 50\n",
    "\n",
    "    LEARNING_RATE = 3e-4\n",
    "    WEIGHT_DECAY = 1e-4\n",
    "    PATIENCE = 10000\n",
    "    MIN_DELTA = 0.001\n",
    "    HEAD_LR = 1e-3\n",
    "    FOCAL_ALPHA = 0.25          # focal loss alpha\n",
    "    FOCAL_GAMMA = 2.0           # focal loss gamma\n",
    "    LABEL_SMOOTHING = 0.1       # label smoothing factor\n",
    "    COSINE_T_0 = 10              # initial restart period\n",
    "    COSINE_T_MULT = 10           # restart period multiplier\n",
    "\n",
    "    # Data augmentation\n",
    "    # ROTATION_RANGE = 15\n",
    "    BRIGHTNESS_RANGE = 0.2\n",
    "    CONTRAST_RANGE = 0.2\n",
    "\n",
    "    LOSS = \"CrossEntropy with LabelSmoothing(0.1)\"\n",
    "\n",
    "\n",
    "    # Directories\n",
    "    DATA_DIR = \"The Dataset\"\n",
    "    MODEL_DIR = \"models/phase2_cnnlstm\"\n",
    "    RESULTS_DIR = \"results/phase2_cnnlstm\"\n",
    "    LOGS_DIR = \"logs\"\n",
    "\n",
    "    # MLflow\n",
    "    MLFLOW_EXPERIMENT_NAME = \"car_exit_detection_cnnlstm\"\n",
    "    MLFLOW_TRACKING_URI = \"sqlite:///mlflow.db\"\n",
    "\n",
    "    def __init__(self):\n",
    "        self.create_directories()\n",
    "        self.setup_mlflow()\n",
    "\n",
    "    def create_directories(self):\n",
    "        directories = [self.MODEL_DIR, self.RESULTS_DIR, self.LOGS_DIR, \"mlruns\"]\n",
    "        for dir_path in directories:\n",
    "            os.makedirs(dir_path, exist_ok=True)\n",
    "            logger.info(f\"Created directory: {dir_path}\")\n",
    "\n",
    "    def setup_mlflow(self):\n",
    "        mlflow.set_tracking_uri(self.MLFLOW_TRACKING_URI)\n",
    "        try:\n",
    "            mlflow.set_experiment(self.MLFLOW_EXPERIMENT_NAME)\n",
    "            experiment = mlflow.get_experiment_by_name(self.MLFLOW_EXPERIMENT_NAME)\n",
    "            if experiment is None:\n",
    "                mlflow.create_experiment(self.MLFLOW_EXPERIMENT_NAME)\n",
    "                logger.info(f\"Created MLFlow experiment: {self.MLFLOW_EXPERIMENT_NAME}\")\n",
    "            else:\n",
    "                logger.info(f\"Using existing MLFlow experiment: {self.MLFLOW_EXPERIMENT_NAME}\")\n",
    "        except Exception as e:\n",
    "            logger.error(f\"MLFlow setup failed: {e}\")\n",
    "            raise\n"
   ]
  },
  {
   "cell_type": "code",
   "execution_count": 25,
   "metadata": {},
   "outputs": [],
   "source": [
    "class FocalLoss(nn.Module):\n",
    "\n",
    "    \"\"\"Focal Loss buat handle class imbalance\"\"\"\n",
    "    \n",
    "    def __init__(self, alpha=0.25, gamma=2.0, reduction='mean'):\n",
    "        super().__init__()\n",
    "        self.alpha = alpha\n",
    "        self.gamma = gamma\n",
    "        self.reduction = reduction\n",
    "\n",
    "    def forward(self, inputs, targets):\n",
    "        ce_loss = F.cross_entropy(inputs, targets, reduction='none')\n",
    "        pt = torch.exp(-ce_loss)\n",
    "        focal_loss = self.alpha * (1-pt)**self.gamma * ce_loss\n",
    "        \n",
    "        if self.reduction == 'mean':\n",
    "            return focal_loss.mean()\n",
    "        elif self.reduction == 'sum':\n",
    "            return focal_loss.sum()\n",
    "        return focal_loss"
   ]
  },
  {
   "cell_type": "code",
   "execution_count": 26,
   "metadata": {},
   "outputs": [],
   "source": [
    "class LabelSmoothingCrossEntropy(nn.Module):\n",
    "\n",
    "    \"\"\"Label Smoothing Cross Entropy untuk regularization\"\"\"\n",
    "    \n",
    "    def __init__(self, smoothing=0.1):\n",
    "        super().__init__()\n",
    "        self.smoothing = smoothing\n",
    "\n",
    "    def forward(self, inputs, targets):\n",
    "        log_prob = F.log_softmax(inputs, dim=-1)\n",
    "        targets = torch.zeros_like(log_prob).scatter_(1, targets.unsqueeze(1), 1)\n",
    "        targets = (1 - self.smoothing) * targets + self.smoothing / inputs.size(-1)\n",
    "        return (-targets * log_prob).sum(dim=-1).mean()"
   ]
  },
  {
   "cell_type": "code",
   "execution_count": 27,
   "metadata": {},
   "outputs": [],
   "source": [
    "class CombinedLoss(nn.Module):\n",
    "\n",
    "    \"\"\"Kombinasi Focal Loss dan Label Smoothing\"\"\"\n",
    "    \n",
    "    def __init__(self, focal_alpha=0.25, focal_gamma=2.0, smoothing=0.1, focal_weight=0.7):\n",
    "        super().__init__()\n",
    "        self.focal_loss = FocalLoss(alpha=focal_alpha, gamma=focal_gamma)\n",
    "        self.smooth_loss = LabelSmoothingCrossEntropy(smoothing=smoothing)\n",
    "        self.focal_weight = focal_weight\n",
    "\n",
    "    def forward(self, inputs, targets):\n",
    "        focal = self.focal_loss(inputs, targets)\n",
    "        smooth = self.smooth_loss(inputs, targets)\n",
    "        return self.focal_weight * focal + (1 - self.focal_weight) * smooth"
   ]
  },
  {
   "cell_type": "code",
   "execution_count": 28,
   "metadata": {},
   "outputs": [],
   "source": [
    "class CarExitSequenceDataset(Dataset):\n",
    "    \n",
    "    def __init__(self, sequences, transform, target_len=16):\n",
    "        self.sequences = sequences\n",
    "        self.transform = transform\n",
    "        self.target_len = target_len\n",
    "\n",
    "    def __len__(self): return len(self.sequences)\n",
    "\n",
    "    def __getitem__(self, idx):\n",
    "        item = self.sequences[idx]\n",
    "        frames, label = item[\"frame_paths\"], item[\"label\"]\n",
    "        if len(frames) >= self.target_len:\n",
    "            sel_idx = np.linspace(0, len(frames)-1, self.target_len).astype(int)\n",
    "            chosen = [frames[i] for i in sel_idx]\n",
    "            length = self.target_len\n",
    "        else:\n",
    "            chosen = frames + [frames[-1]] * (self.target_len - len(frames))\n",
    "            length = len(frames)\n",
    "        imgs = [self.transform(Image.open(fp).convert('RGB')) for fp in chosen]\n",
    "        x = torch.stack(imgs, dim=0)\n",
    "        return x, torch.tensor(label, dtype=torch.long), torch.tensor(length, dtype=torch.long)\n",
    "\n",
    "def seq_collate(batch):\n",
    "    xs, ys, ls = zip(*batch)\n",
    "    return torch.stack(xs, 0), torch.stack(ys, 0), torch.stack(ls, 0)"
   ]
  },
  {
   "cell_type": "code",
   "execution_count": 29,
   "metadata": {},
   "outputs": [],
   "source": [
    "class CNNFeatureExtractor(nn.Module):\n",
    "\n",
    "    \"\"\"\n",
    "    Ekstraktor fitur frame berbasis EfficientNet-B7 (tanpa classifier).\n",
    "    - Jika input (B, C, H, W) -> output (B, D)\n",
    "    - Jika input (B, T, C, H, W) -> output (B, T, D)\n",
    "    D = cnn_feature_size (Eff-B7 = 2560).\n",
    "    \"\"\"\n",
    "    \n",
    "    def __init__(self, freeze_backbone: bool = True):\n",
    "        super().__init__()\n",
    "        self.backbone = efficientnet_b3(weights=EfficientNet_B3_Weights.IMAGENET1K_V1)\n",
    "        self.backbone.classifier = nn.Identity()  # keluarkan vektor fitur akhir (B, 1536)\n",
    "\n",
    "        if freeze_backbone:\n",
    "            for p in self.backbone.parameters():\n",
    "                p.requires_grad = False\n",
    "\n",
    "    def forward(self, x: torch.Tensor) -> torch.Tensor:\n",
    "        if x.dim() == 4:  # (B, C, H, W)\n",
    "            return self.backbone(x)  # (B, D)\n",
    "\n",
    "        elif x.dim() == 5:  # (B, T, C, H, W)\n",
    "            B, T, C, H, W = x.shape\n",
    "            x_flat = x.view(B * T, C, H, W)\n",
    "            feats = self.backbone(x_flat)         # (B*T, D)\n",
    "            D = feats.shape[1]\n",
    "            return feats.view(B, T, D)            # (B, T, D)\n",
    "\n",
    "        else:\n",
    "            raise ValueError(f\"Unexpected input shape: {x.shape}\")"
   ]
  },
  {
   "cell_type": "code",
   "execution_count": 30,
   "metadata": {},
   "outputs": [],
   "source": [
    "class MultiHeadAttention(nn.Module):\n",
    "\n",
    "    \"\"\" Multi-Head Attention buat temporal modeling \"\"\"\n",
    "    \n",
    "    def __init__(self, d_model, num_heads, dropout=0.1):\n",
    "        super().__init__()\n",
    "        assert d_model % num_heads == 0\n",
    "        \n",
    "        self.d_model = d_model\n",
    "        self.num_heads = num_heads\n",
    "        self.d_k = d_model // num_heads\n",
    "        \n",
    "        self.w_q = nn.Linear(d_model, d_model)\n",
    "        self.w_k = nn.Linear(d_model, d_model)\n",
    "        self.w_v = nn.Linear(d_model, d_model)\n",
    "        self.w_o = nn.Linear(d_model, d_model)\n",
    "        \n",
    "        self.dropout = nn.Dropout(dropout)\n",
    "        self.layer_norm = nn.LayerNorm(d_model)\n",
    "        \n",
    "    def forward(self, x, mask=None):\n",
    "        # x: (B, T, d_model)\n",
    "        batch_size, seq_len = x.size(0), x.size(1)\n",
    "        residual = x\n",
    "        \n",
    "        # Linear transformations\n",
    "        Q = self.w_q(x).view(batch_size, seq_len, self.num_heads, self.d_k).transpose(1, 2)\n",
    "        K = self.w_k(x).view(batch_size, seq_len, self.num_heads, self.d_k).transpose(1, 2)\n",
    "        V = self.w_v(x).view(batch_size, seq_len, self.num_heads, self.d_k).transpose(1, 2)\n",
    "        \n",
    "        # Attention\n",
    "        attention_output = self.scaled_dot_product_attention(Q, K, V, mask)\n",
    "        attention_output = attention_output.transpose(1, 2).contiguous().view(\n",
    "            batch_size, seq_len, self.d_model\n",
    "        )\n",
    "        \n",
    "        # Outputnya projection dan residual\n",
    "        output = self.w_o(attention_output)\n",
    "        output = self.dropout(output)\n",
    "        return self.layer_norm(output + residual)\n",
    "    \n",
    "    def scaled_dot_product_attention(self, Q, K, V, mask=None):\n",
    "        scores = torch.matmul(Q, K.transpose(-2, -1)) / math.sqrt(self.d_k)\n",
    "        \n",
    "        if mask is not None:\n",
    "            scores = scores.masked_fill(mask == 0, -1e9)\n",
    "            \n",
    "        attention_weights = F.softmax(scores, dim=-1)\n",
    "        attention_weights = self.dropout(attention_weights)\n",
    "        \n",
    "        return torch.matmul(attention_weights, V)"
   ]
  },
  {
   "cell_type": "code",
   "execution_count": 31,
   "metadata": {},
   "outputs": [],
   "source": [
    "class FeatureAdapter(nn.Module):\n",
    "\n",
    "    \"\"\" Adapter layer buat mapping CNN features ke sequence modeling \"\"\"\n",
    "\n",
    "    def __init__(self, input_dim, output_dim, dropout=0.1):\n",
    "        super().__init__()\n",
    "        self.adapter = nn.Sequential(\n",
    "            nn.Linear(input_dim, output_dim * 2),\n",
    "            nn.LayerNorm(output_dim * 2),\n",
    "            nn.GELU(),\n",
    "            nn.Dropout(dropout),\n",
    "            nn.Linear(output_dim * 2, output_dim),\n",
    "            nn.LayerNorm(output_dim),\n",
    "            nn.GELU(),\n",
    "            nn.Dropout(dropout)\n",
    "        )\n",
    "        self.residual = nn.Linear(input_dim, output_dim) if input_dim != output_dim else nn.Identity()\n",
    "        \n",
    "    def forward(self, x):\n",
    "        # x: (B, T, input_dim) atau (B*T, input_dim)\n",
    "        original_shape = x.shape\n",
    "        if len(original_shape) == 3:\n",
    "            B, T, D = original_shape\n",
    "            x = x.view(B*T, D)\n",
    "            adapted = self.adapter(x) + self.residual(x)\n",
    "            return adapted.view(B, T, -1)\n",
    "        else:\n",
    "            return self.adapter(x) + self.residual(x)"
   ]
  },
  {
   "cell_type": "code",
   "execution_count": 32,
   "metadata": {},
   "outputs": [],
   "source": [
    "class SequenceHeadLSTM(nn.Module):\n",
    "\n",
    "    \"\"\"\n",
    "    Enhanced Head temporal LSTM dengan Multi-Head Attention, Bidirectional LSTM, dan Residual connections.\n",
    "    Input :\n",
    "      feats   : (B, T, D)  -> fitur dari CNN per frame\n",
    "      lengths : (B,)       -> panjang asli tiap sequence (<= T)\n",
    "    Output:\n",
    "      logits  : (B, num_classes)\n",
    "    \"\"\"\n",
    "\n",
    "    def __init__(self, feat_dim: int = 1536, adapter_dim: int = 512, hidden: int = 512, \n",
    "                 layers: int = 1, num_classes: int = 2, bidirectional: bool = True, \n",
    "                 dropout: float = 0.3, num_attention_heads: int = 8, use_residual: bool = True):\n",
    "        super().__init__()\n",
    "        \n",
    "        # Feature adapter\n",
    "        self.feature_adapter = FeatureAdapter(feat_dim, adapter_dim, dropout)\n",
    "        \n",
    "        # Multi-head attention\n",
    "        self.attention = MultiHeadAttention(\n",
    "            d_model=adapter_dim, \n",
    "            num_heads=num_attention_heads, \n",
    "            dropout=dropout\n",
    "        )\n",
    "        \n",
    "        # Bidirectional LSTM\n",
    "        self.lstm = nn.LSTM(\n",
    "            input_size=adapter_dim,\n",
    "            hidden_size=hidden,\n",
    "            num_layers=layers,\n",
    "            batch_first=True,\n",
    "            bidirectional=bidirectional,\n",
    "            dropout=(dropout if layers > 1 else 0.0),\n",
    "        )\n",
    "        \n",
    "        # Residual connection params\n",
    "        self.use_residual = use_residual\n",
    "        if use_residual:\n",
    "            lstm_out_dim = hidden * (2 if bidirectional else 1)\n",
    "            self.residual_proj = nn.Linear(adapter_dim, lstm_out_dim)\n",
    "        \n",
    "        out_dim = hidden * (2 if bidirectional else 1)\n",
    "        \n",
    "        # Enhanced classifier dengan lebih banyak layer\n",
    "        self.classifier = nn.Sequential(\n",
    "            nn.Linear(out_dim, 128),\n",
    "            nn.ReLU(inplace=True),\n",
    "            nn.Dropout(0.3),\n",
    "            nn.Linear(128, num_classes),\n",
    "        )\n",
    "\n",
    "        self._init_classifier()\n",
    "\n",
    "    def _init_classifier(self):\n",
    "        for m in self.classifier.modules():\n",
    "            if isinstance(m, nn.Linear):\n",
    "                nn.init.xavier_uniform_(m.weight)\n",
    "                if m.bias is not None:\n",
    "                    nn.init.constant_(m.bias, 0)\n",
    "            elif isinstance(m, nn.BatchNorm1d):\n",
    "                nn.init.constant_(m.weight, 1)\n",
    "                nn.init.constant_(m.bias, 0)\n",
    "\n",
    "    def create_attention_mask(self, lengths, max_len):\n",
    "\n",
    "        \"\"\" attention mask untuk variable length sequences \"\"\"\n",
    "\n",
    "        batch_size = len(lengths)\n",
    "        mask = torch.zeros(batch_size, max_len, dtype=torch.bool, device=lengths.device)\n",
    "        for i, length in enumerate(lengths):\n",
    "            mask[i, :length] = True\n",
    "        return mask.unsqueeze(1).unsqueeze(1)  # (B, 1, 1, T) untuk broadcasting\n",
    "\n",
    "    def forward(self, feats: torch.Tensor, lengths: torch.Tensor) -> torch.Tensor:\n",
    "        # feats: (B, T, D), lengths harus di CPU untuk pack\n",
    "        B, T, D = feats.shape\n",
    "        \n",
    "        # Feature adaptation\n",
    "        adapted_feats = self.feature_adapter(feats)  # (B, T, adapter_dim)\n",
    "        \n",
    "        # Multi-head attention dengan mask\n",
    "        attention_mask = self.create_attention_mask(lengths, T)\n",
    "        attended_feats = self.attention(adapted_feats, mask=attention_mask)  # (B, T, adapter_dim)\n",
    "        \n",
    "        # LSTM processing\n",
    "        packed = nn.utils.rnn.pack_padded_sequence(\n",
    "            attended_feats, lengths.cpu(), batch_first=True, enforce_sorted=False\n",
    "        )\n",
    "        lstm_out, (h_n, _) = self.lstm(packed)  # h_n: (num_layers * num_dirs, B, H)\n",
    "        \n",
    "        # Unpack untuk residual connection\n",
    "        if self.use_residual:\n",
    "            unpacked_out, _ = nn.utils.rnn.pad_packed_sequence(lstm_out, batch_first=True)\n",
    "            seq_mask = torch.arange(T, device=feats.device).unsqueeze(0) < lengths.unsqueeze(1)\n",
    "            seq_mask = seq_mask.unsqueeze(-1).float()  # (B, T, 1)\n",
    "            \n",
    "            pooled_attended = (attended_feats * seq_mask).sum(dim=1) / lengths.unsqueeze(1).float()\n",
    "            pooled_attended = self.residual_proj(pooled_attended)  # (B, lstm_out_dim)\n",
    "\n",
    "        # final hidden state\n",
    "        if self.lstm.bidirectional:\n",
    "            h_last = torch.cat([h_n[-2], h_n[-1]], dim=1)  # (B, 2H)\n",
    "        else:\n",
    "            h_last = h_n[-1]                               # (B, H)\n",
    "\n",
    "        # Add residual connection\n",
    "        if self.use_residual:\n",
    "            h_last = h_last + pooled_attended\n",
    "\n",
    "        logits = self.classifier(h_last)                   # (B, num_classes)\n",
    "        return logits"
   ]
  },
  {
   "cell_type": "code",
   "execution_count": 33,
   "metadata": {},
   "outputs": [],
   "source": [
    "class CNNLSTMModel(nn.Module):\n",
    "\n",
    "    \"\"\"\n",
    "    Enhanced CNN+LSTM model dengan Multi-Head Attention dan Feature Adapter.\n",
    "    Input : x (B,T,C,H,W), lengths (B,)\n",
    "    Output: logits (B,num_classes)\n",
    "    \"\"\"\n",
    "\n",
    "    def __init__(self, num_classes=2, cnn_feature_size=1536, adapter_dim=512,\n",
    "                 lstm_hidden=512, lstm_layers=1, bidirectional=True, dropout=0.3,\n",
    "                 num_attention_heads=8, use_residual=True, freeze_backbone=True):\n",
    "        super().__init__()\n",
    "        self.extractor = CNNFeatureExtractor(freeze_backbone=freeze_backbone)\n",
    "        self.head = SequenceHeadLSTM(\n",
    "            feat_dim=cnn_feature_size,\n",
    "            adapter_dim=adapter_dim,\n",
    "            hidden=lstm_hidden,\n",
    "            layers=lstm_layers,\n",
    "            num_classes=num_classes,\n",
    "            bidirectional=bidirectional,\n",
    "            dropout=dropout,\n",
    "            num_attention_heads=num_attention_heads,\n",
    "            use_residual=use_residual\n",
    "        )\n",
    "\n",
    "    def forward(self, x_btchw: torch.Tensor, lengths: torch.Tensor) -> torch.Tensor:\n",
    "        feats = self.extractor(x_btchw)            # (B, T, D)\n",
    "        logits = self.head(feats, lengths)         # (B, num_classes)\n",
    "        return logits\n",
    "    \n",
    "def create_weighted_sampler(sequences, config):\n",
    "\n",
    "    \"\"\" Bikin WeightedRandomSampler untuk mengatasi class imbalance \"\"\"\n",
    "\n",
    "    labels = [s[\"label\"] for s in sequences]\n",
    "    class_counts = Counter(labels)\n",
    "    \n",
    "    # Hitung weight per class \n",
    "    total_samples = len(sequences)\n",
    "    class_weights = {}\n",
    "    for cls, count in class_counts.items():\n",
    "        class_weights[cls] = total_samples / (len(class_counts) * count)\n",
    "    \n",
    "    # Assign weight ke setiap sample\n",
    "    sample_weights = [class_weights[label] for label in labels]\n",
    "    \n",
    "    logger.info(f\"Class weights: {class_weights}\")\n",
    "    logger.info(f\"Sample weights range: {min(sample_weights):.3f} - {max(sample_weights):.3f}\")\n",
    "    \n",
    "    return WeightedRandomSampler(\n",
    "        weights=sample_weights,\n",
    "        num_samples=len(sample_weights),\n",
    "        replacement=True\n",
    "    )"
   ]
  },
  {
   "cell_type": "code",
   "execution_count": 34,
   "metadata": {},
   "outputs": [],
   "source": [
    "class CNNLSTMTrainer:\n",
    "    def __init__(self, config, device: torch.device):\n",
    "        self.config = config\n",
    "        self.device = device\n",
    "        self.config.HEAD_LR = getattr(self.config, \"HEAD_LR\", 1e-3)\n",
    "        self.config.SEQ_LEN = getattr(self.config, \"SEQ_LEN\", 16)\n",
    "\n",
    "    def create_transforms(self) -> Tuple[transforms.Compose, transforms.Compose]:\n",
    "        train_transform = transforms.Compose([\n",
    "            transforms.Resize((256, 256)),\n",
    "            transforms.RandomResizedCrop(self.config.IMAGE_SIZE, scale=(0.85, 1.0)),\n",
    "            transforms.RandomHorizontalFlip(p=0.3),\n",
    "            transforms.RandomRotation(degrees=self.config.ROTATION_RANGE),\n",
    "            transforms.ColorJitter(\n",
    "                brightness=self.config.BRIGHTNESS_RANGE,\n",
    "                contrast=self.config.CONTRAST_RANGE,\n",
    "                saturation=0.1,\n",
    "                hue=0.05\n",
    "            ),\n",
    "            transforms.RandomApply([transforms.GaussianBlur(kernel_size=3, sigma=(0.1, 1.0))], p=0.1),\n",
    "            transforms.ToTensor(),\n",
    "            transforms.Normalize(mean=[0.485,0.456,0.406], std=[0.229,0.224,0.225]),\n",
    "            transforms.RandomErasing(p=0.1, scale=(0.02, 0.1)),\n",
    "        ])\n",
    "\n",
    "        val_transform = transforms.Compose([\n",
    "            transforms.Resize((256, 256)),\n",
    "            transforms.CenterCrop(self.config.IMAGE_SIZE),\n",
    "            transforms.ToTensor(),\n",
    "            transforms.Normalize(mean=[0.485,0.456,0.406], std=[0.229,0.224,0.225]),\n",
    "        ])\n",
    "        return train_transform, val_transform\n",
    "\n",
    "    def _build_head_optimizer(self, model: nn.Module) -> AdamW:\n",
    "        head_params = list(model.head.parameters())\n",
    "        optimizer = AdamW(head_params, lr=self.config.HEAD_LR, weight_decay=self.config.WEIGHT_DECAY)\n",
    "        return optimizer\n",
    "\n",
    "    def train_val_once(\n",
    "        self,\n",
    "        model: nn.Module,\n",
    "        train_loader: DataLoader,\n",
    "        val_loader: DataLoader,\n",
    "        run_name: str = None\n",
    "    ) -> Tuple[nn.Module, Dict, float]:\n",
    "        \n",
    "        is_active = mlflow.active_run() is not None\n",
    "\n",
    "        with mlflow.start_run(run_name=run_name, nested=is_active):\n",
    "            mlflow.log_params({\n",
    "                'phase': 'Enhanced Stage-1 (freeze CNN, train enhanced LSTM+Attention+FC)',\n",
    "                'image_size': str(self.config.IMAGE_SIZE),\n",
    "                'seq_len': self.config.SEQ_LEN,\n",
    "                'batch_size': self.config.BATCH_SIZE,\n",
    "                'epochs': self.config.EPOCHS,\n",
    "                'head_lr': self.config.HEAD_LR,\n",
    "                'weight_decay': self.config.WEIGHT_DECAY,\n",
    "                'dropout': self.config.DROPOUT,\n",
    "                'lstm_hidden': getattr(self.config, \"LSTM_HIDDEN_SIZE\", 512),\n",
    "                'lstm_layers': getattr(self.config, \"LSTM_NUM_LAYERS\", 1),\n",
    "                'backbone': getattr(self.config, \"MODEL_NAME\", \"efficientnet_b3\"),\n",
    "                'freeze_backbone': True,\n",
    "                'feature_adapter_dim': getattr(self.config, \"FEATURE_ADAPTER_DIM\", 512),\n",
    "                'num_attention_heads': getattr(self.config, \"NUM_ATTENTION_HEADS\", 8),\n",
    "                'use_bidirectional': getattr(self.config, \"USE_BIDIRECTIONAL\", True),\n",
    "                'use_residual': getattr(self.config, \"USE_RESIDUAL\", True),\n",
    "                'focal_alpha': getattr(self.config, \"FOCAL_ALPHA\", 0.25),\n",
    "                'focal_gamma': getattr(self.config, \"FOCAL_GAMMA\", 2.0),\n",
    "                'label_smoothing': getattr(self.config, \"LABEL_SMOOTHING\", 0.1),\n",
    "            })\n",
    "\n",
    "            # Enhanced Combined Loss\n",
    "            criterion = CombinedLoss(\n",
    "                focal_alpha=self.config.FOCAL_ALPHA,\n",
    "                focal_gamma=self.config.FOCAL_GAMMA,\n",
    "                smoothing=self.config.LABEL_SMOOTHING,\n",
    "                focal_weight=0.7\n",
    "            )\n",
    "            \n",
    "            optimizer = self._build_head_optimizer(model)\n",
    "            \n",
    "            # Cosine Annealing with Warm Restarts\n",
    "            scheduler = CosineAnnealingWarmRestarts(\n",
    "                optimizer,\n",
    "                T_0=self.config.COSINE_T_0,\n",
    "                T_mult=self.config.COSINE_T_MULT,\n",
    "                eta_min=self.config.HEAD_LR * 0.01\n",
    "            )\n",
    "\n",
    "            history = {'train_loss': [], 'train_acc': [], 'val_loss': [], 'val_acc': []}\n",
    "            best_val_acc, best_state, patience_counter = 0.0, None, 0\n",
    "\n",
    "            for epoch in range(self.config.EPOCHS):\n",
    "                model.train()\n",
    "                train_loss_sum, train_correct, train_total = 0.0, 0, 0\n",
    "                pbar = tqdm(train_loader, desc=f'Epoch {epoch+1}/{self.config.EPOCHS}', leave=False)\n",
    "\n",
    "                for images, labels, lengths in pbar:\n",
    "                    images = images.to(self.device)\n",
    "                    labels = labels.to(self.device)\n",
    "                    lengths = lengths.to(self.device)\n",
    "\n",
    "                    optimizer.zero_grad()\n",
    "                    outputs = model(images, lengths)\n",
    "                    loss = criterion(outputs, labels)\n",
    "                    loss.backward()\n",
    "                    torch.nn.utils.clip_grad_norm_(model.parameters(), max_norm=1.0)\n",
    "                    optimizer.step()\n",
    "                    scheduler.step()  # Step setelah setiap batch untuk warm restarts\n",
    "\n",
    "                    bs = labels.size(0)\n",
    "                    train_loss_sum += loss.item() * bs\n",
    "                    _, pred = outputs.max(1)\n",
    "                    train_total += bs\n",
    "                    train_correct += (pred == labels).sum().item()\n",
    "\n",
    "                    pbar.set_postfix(loss=f'{loss.item():.4f}',\n",
    "                                     acc=f'{100.0*train_correct/max(train_total,1):.1f}%')\n",
    "\n",
    "                epoch_train_loss = train_loss_sum / max(train_total, 1)\n",
    "                epoch_train_acc  = train_correct / max(train_total, 1)\n",
    "\n",
    "                model.eval()\n",
    "                val_loss_sum, val_correct, val_total = 0.0, 0, 0\n",
    "                with torch.no_grad():\n",
    "                    for images, labels, lengths in val_loader:\n",
    "                        images = images.to(self.device)\n",
    "                        labels = labels.to(self.device)\n",
    "                        lengths = lengths.to(self.device)\n",
    "\n",
    "                        outputs = model(images, lengths)\n",
    "                        loss = criterion(outputs, labels)\n",
    "\n",
    "                        bs = labels.size(0)\n",
    "                        val_loss_sum += loss.item() * bs\n",
    "                        _, pred = outputs.max(1)\n",
    "                        val_total += bs\n",
    "                        val_correct += (pred == labels).sum().item()\n",
    "\n",
    "                epoch_val_loss = val_loss_sum / max(val_total, 1)\n",
    "                epoch_val_acc  = val_correct / max(val_total, 1)\n",
    "\n",
    "                history['train_loss'].append(epoch_train_loss)\n",
    "                history['train_acc'].append(epoch_train_acc)\n",
    "                history['val_loss'].append(epoch_val_loss)\n",
    "                history['val_acc'].append(epoch_val_acc)\n",
    "\n",
    "                mlflow.log_metrics({\n",
    "                    'train_loss': epoch_train_loss,\n",
    "                    'train_acc': epoch_train_acc,\n",
    "                    'val_loss': epoch_val_loss,\n",
    "                    'val_acc': epoch_val_acc,\n",
    "                    'learning_rate': scheduler.get_last_lr()[0]\n",
    "                }, step=epoch)\n",
    "\n",
    "                logger.info(\n",
    "                    f\"Epoch {epoch+1}/{self.config.EPOCHS} \"\n",
    "                    f\"Train: {epoch_train_loss:.4f}/{epoch_train_acc:.4f} \"\n",
    "                    f\"Val: {epoch_val_loss:.4f}/{epoch_val_acc:.4f} \"\n",
    "                    f\"LR: {scheduler.get_last_lr()[0]:.6f}\"\n",
    "                )\n",
    "\n",
    "                if epoch_val_acc > best_val_acc + self.config.MIN_DELTA:\n",
    "                    best_val_acc = epoch_val_acc\n",
    "                    best_state = copy.deepcopy(model.state_dict())\n",
    "                    patience_counter = 0\n",
    "                    logger.info(f\"New best model — Val Acc: {epoch_val_acc:.4f}\")\n",
    "                else:\n",
    "                    patience_counter += 1\n",
    "                    if patience_counter >= self.config.PATIENCE:\n",
    "                        logger.info(f\"Early stopping at epoch {epoch+1}\")\n",
    "                        break\n",
    "\n",
    "            if best_state is not None:\n",
    "                model.load_state_dict(best_state)\n",
    "\n",
    "            os.makedirs(self.config.MODEL_DIR, exist_ok=True)\n",
    "            best_model_path = os.path.join(self.config.MODEL_DIR, 'best_cnnlstm_stage1.pth')\n",
    "            torch.save({'model_state_dict': model.state_dict(),\n",
    "                        'best_val_acc': best_val_acc,\n",
    "                        'config': self.config.__dict__}, best_model_path)\n",
    "            mlflow.log_artifact(best_model_path, \"models\")\n",
    "\n",
    "            return model, history, best_val_acc\n"
   ]
  },
  {
   "cell_type": "code",
   "execution_count": 35,
   "metadata": {},
   "outputs": [],
   "source": [
    "def load_sequence_index(data_dir: str) -> List[Dict]:\n",
    "\n",
    "    \"\"\"\n",
    "    Return list of sequence dict:\n",
    "      [\n",
    "        {\"sequence_id\": \"0_seq001\", \"frame_paths\": [...], \"label\": 0},\n",
    "        {\"sequence_id\": \"1_seq123\", \"frame_paths\": [...], \"label\": 1},\n",
    "        ...\n",
    "      ]\n",
    "    Struktur diasumsikan: data_dir/{0,1}/{seq_name}/*.jpg|png|jpeg|bmp\n",
    "    \"\"\"\n",
    "\n",
    "    root = Path(data_dir)\n",
    "    exts = {'.jpg', '.jpeg', '.png', '.bmp'}\n",
    "    sequences: List[Dict] = []\n",
    "\n",
    "    for cls in [0, 1]:\n",
    "        class_dir = root / str(cls)\n",
    "        if not class_dir.exists():\n",
    "            logger.warning(f\"Class directory {class_dir} not found\")\n",
    "            continue\n",
    "\n",
    "        for seq_dir in sorted([p for p in class_dir.iterdir() if p.is_dir()]):\n",
    "            frames = sorted([f for f in seq_dir.iterdir()\n",
    "                             if f.is_file() and f.suffix.lower() in exts])\n",
    "            if not frames:\n",
    "                logger.warning(f\"No images in sequence {seq_dir}\")\n",
    "                continue\n",
    "\n",
    "            sequences.append({\n",
    "                \"sequence_id\": f\"{cls}_{seq_dir.name}\",\n",
    "                \"frame_paths\": [str(x) for x in frames],\n",
    "                \"label\": int(cls),\n",
    "            })\n",
    "\n",
    "    if not sequences:\n",
    "        raise ValueError(\"No sequences found.\")\n",
    "\n",
    "    logger.info(f\"Loaded {len(sequences)} sequences \"\n",
    "                f\"({sum(len(s['frame_paths']) for s in sequences)} frames total)\")\n",
    "    return sequences\n",
    "\n",
    "def split_train_val_sequences(sequences, val_size=0.2, seed=42):\n",
    "\n",
    "    \"\"\"\n",
    "    Split sekali anti-leak: semua frame dari 1 sequence jatuh ke train ATAU val saja.\n",
    "    \"\"\"\n",
    "    \n",
    "    groups = [s[\"sequence_id\"] for s in sequences]\n",
    "    labels = [s[\"label\"] for s in sequences]\n",
    "\n",
    "    gss = GroupShuffleSplit(n_splits=1, test_size=val_size, random_state=seed)\n",
    "    train_idx, val_idx = next(gss.split(sequences, labels, groups))\n",
    "\n",
    "    train_seq = [sequences[i] for i in train_idx]\n",
    "    val_seq   = [sequences[i] for i in val_idx]\n",
    "\n",
    "    logger.info(f\"Train sequences: {len(train_seq)} | Val sequences: {len(val_seq)}\")\n",
    "    return train_seq, val_seq\n"
   ]
  },
  {
   "cell_type": "code",
   "execution_count": 36,
   "metadata": {},
   "outputs": [],
   "source": [
    "def visualize_trainval_history(history: Dict, config, title: str = \"Enhanced CNN+LSTM Stage-1\",\n",
    "                               best_val_acc: float = None, filename: str = \"trainval_history_stage1.png\"):\n",
    "    \n",
    "    \"\"\"\n",
    "    history: dict dengan keys:\n",
    "        - 'train_acc', 'val_acc', 'train_loss', 'val_loss'  (list per-epoch)\n",
    "    config : punya RESULTS_DIR untuk lokasi simpan\n",
    "    \"\"\"\n",
    "    \n",
    "    train_acc = np.array(history.get('train_acc', []), dtype=float)\n",
    "    val_acc   = np.array(history.get('val_acc', []), dtype=float)\n",
    "    train_ls  = np.array(history.get('train_loss', []), dtype=float)\n",
    "    val_ls    = np.array(history.get('val_loss', []), dtype=float)\n",
    "\n",
    "    epochs = np.arange(1, len(train_acc) + 1)\n",
    "\n",
    "    plt.figure(figsize=(12, 5))\n",
    "\n",
    "    # Acc panel\n",
    "    ax1 = plt.subplot(1, 2, 1)\n",
    "    ax1.plot(epochs, train_acc, label='Train Acc', linewidth=2)\n",
    "    ax1.plot(epochs, val_acc,   label='Val Acc',   linewidth=2)\n",
    "    ax1.set_xlabel('Epoch'); ax1.set_ylabel('Accuracy')\n",
    "    ax1.set_title('Accuracy per Epoch')\n",
    "    ax1.grid(True, alpha=0.3); ax1.legend()\n",
    "\n",
    "    # Loss panel\n",
    "    ax2 = plt.subplot(1, 2, 2)\n",
    "    ax2.plot(epochs, train_ls, label='Train Loss', linewidth=2)\n",
    "    ax2.plot(epochs, val_ls,   label='Val Loss',   linewidth=2)\n",
    "    ax2.set_xlabel('Epoch'); ax2.set_ylabel('Loss')\n",
    "    ax2.set_title('Loss per Epoch')\n",
    "    ax2.grid(True, alpha=0.3); ax2.legend()\n",
    "\n",
    "    suptitle = title if best_val_acc is None else f\"{title}  |  Best Val Acc: {best_val_acc:.4f}\"\n",
    "    plt.suptitle(suptitle, fontsize=14, fontweight='bold')\n",
    "    plt.tight_layout(rect=[0, 0.03, 1, 0.95])\n",
    "\n",
    "    os.makedirs(config.RESULTS_DIR, exist_ok=True)\n",
    "    out_path = os.path.join(config.RESULTS_DIR, filename)\n",
    "    plt.savefig(out_path, dpi=300, bbox_inches='tight')\n",
    "    plt.show()\n",
    "\n",
    "    mlflow.log_artifact(out_path)\n",
    "    return out_path"
   ]
  },
  {
   "cell_type": "code",
   "execution_count": 37,
   "metadata": {},
   "outputs": [],
   "source": [
    "def evaluate_test_set_sequence(\n",
    "    model: torch.nn.Module,\n",
    "    test_loader: torch.utils.data.DataLoader,\n",
    "    device: torch.device,\n",
    "    config\n",
    ") -> dict:\n",
    "    model.eval()\n",
    "    test_correct, test_total = 0, 0\n",
    "    all_preds, all_labels = [], []\n",
    "\n",
    "    with torch.no_grad():\n",
    "        for images, labels, lengths in tqdm(test_loader, desc=\"Evaluating test set\"):\n",
    "            images  = images.to(device)    # (B,T,C,H,W)\n",
    "            labels  = labels.to(device)    # (B,)\n",
    "            lengths = lengths.to(device)   # (B,)\n",
    "\n",
    "            outputs = model(images, lengths)          # (B,num_classes)\n",
    "            _, pred = torch.max(outputs.data, dim=1)  # (B,)\n",
    "\n",
    "            test_total   += labels.size(0)\n",
    "            test_correct += (pred == labels).sum().item()\n",
    "\n",
    "            all_preds.extend(pred.cpu().numpy().tolist())\n",
    "            all_labels.extend(labels.cpu().numpy().tolist())\n",
    "\n",
    "    # Metrics (dengan zero_division=0 agar aman kalau ada kelas kosong)\n",
    "    accuracy   = test_correct / max(test_total, 1)\n",
    "    f1_w       = f1_score(all_labels, all_preds, average='weighted', zero_division=0)\n",
    "    prec_w     = precision_score(all_labels, all_preds, average='weighted', zero_division=0)\n",
    "    rec_w      = recall_score(all_labels, all_preds, average='weighted', zero_division=0)\n",
    "\n",
    "    f1_per     = f1_score(all_labels, all_preds, average=None, zero_division=0)\n",
    "    prec_per   = precision_score(all_labels, all_preds, average=None, zero_division=0)\n",
    "    rec_per    = recall_score(all_labels, all_preds, average=None, zero_division=0)\n",
    "\n",
    "    metrics = {\n",
    "        'accuracy': accuracy,\n",
    "        'f1_weighted': f1_w,\n",
    "        'precision_weighted': prec_w,\n",
    "        'recall_weighted': rec_w,\n",
    "        'f1_normal': f1_per[0] if len(f1_per) > 0 else 0.0,\n",
    "        'f1_person_exiting': f1_per[1] if len(f1_per) > 1 else 0.0,\n",
    "        'precision_normal': prec_per[0] if len(prec_per) > 0 else 0.0,\n",
    "        'precision_person_exiting': prec_per[1] if len(prec_per) > 1 else 0.0,\n",
    "        'recall_normal': rec_per[0] if len(rec_per) > 0 else 0.0,\n",
    "        'recall_person_exiting': rec_per[1] if len(rec_per) > 1 else 0.0,\n",
    "        'test_samples': test_total\n",
    "    }\n",
    "\n",
    "    # Confusion Matrix\n",
    "    class_names = ['Normal Parking', 'Person Exiting']\n",
    "    cm = confusion_matrix(all_labels, all_preds, labels=[0,1])\n",
    "\n",
    "    plt.figure(figsize=(8, 6))\n",
    "    sns.heatmap(cm, annot=True, fmt='d', cmap='Blues',\n",
    "                xticklabels=class_names, yticklabels=class_names)\n",
    "    plt.title('Test Set Confusion Matrix', fontweight='bold', fontsize=14)\n",
    "    plt.ylabel('True Label'); plt.xlabel('Predicted Label')\n",
    "\n",
    "    os.makedirs(config.RESULTS_DIR, exist_ok=True)\n",
    "    cm_path = os.path.join(config.RESULTS_DIR, 'test_confusion_matrix_seq.png')\n",
    "    plt.savefig(cm_path, dpi=300, bbox_inches='tight'); plt.show()\n",
    "    mlflow.log_artifact(cm_path)\n",
    "\n",
    "    # Classification report (log ke logger)\n",
    "    report = classification_report(all_labels, all_preds, target_names=class_names, zero_division=0)\n",
    "    logger.info(\"\\nTEST SET EVALUATION (SEQUENCE):\")\n",
    "    logger.info(f\"Accuracy: {accuracy:.4f} ({accuracy*100:.2f}%)\")\n",
    "    logger.info(f\"F1 (weighted): {f1_w:.4f} | Precision (weighted): {prec_w:.4f} | Recall (weighted): {rec_w:.4f}\")\n",
    "    logger.info(f\"\\nDetailed Classification Report:\\n{report}\")\n",
    "\n",
    "    return metrics"
   ]
  },
  {
   "cell_type": "code",
   "execution_count": 38,
   "metadata": {},
   "outputs": [],
   "source": [
    "def set_seed(seed=42):\n",
    "    random.seed(seed)\n",
    "    np.random.seed(seed)\n",
    "    torch.manual_seed(seed)\n",
    "    torch.cuda.manual_seed_all(seed)\n",
    "    torch.backends.cudnn.deterministic = True\n",
    "    torch.backends.cudnn.benchmark = False\n",
    "\n",
    "\n",
    "def main():\n",
    "    try:\n",
    "        # ---------- setup ----------\n",
    "        set_seed(42)\n",
    "        config = CNNLSTMConfig()  # ganti ke config sequence kamu (bukan CNNConfig lama)\n",
    "        device = torch.device('cuda' if torch.cuda.is_available() else 'cpu')\n",
    "        logger.info(f\"Device: {device}\")\n",
    "        if torch.cuda.is_available():\n",
    "            mem_gb = torch.cuda.get_device_properties(0).total_memory / 1e9\n",
    "            logger.info(f\"GPU Memory: {mem_gb:.1f} GB\")\n",
    "\n",
    "        # ---------- load sequences ----------\n",
    "        sequences = load_sequence_index(config.DATA_DIR)  # -> list of dicts (sequence-level)\n",
    "        class_counts = {\n",
    "            0: sum(1 for s in sequences if s[\"label\"] == 0),\n",
    "            1: sum(1 for s in sequences if s[\"label\"] == 1),\n",
    "        }\n",
    "        logger.info(f\"Sequence count: {len(sequences)} | Class dist (seq): {class_counts}\")\n",
    "\n",
    "        # sekali split train/val tanpa test (anti-leak per sequence)\n",
    "        train_seq, val_seq = split_train_val_sequences(sequences, val_size=0.2, seed=42)\n",
    "        logger.info(f\"Train sequences: {len(train_seq)} | Val sequences: {len(val_seq)}\")\n",
    "\n",
    "        # ---------- transforms ----------\n",
    "        trainer = CNNLSTMTrainer(config, device)\n",
    "        train_tf, val_tf = trainer.create_transforms()\n",
    "\n",
    "        # ---------- datasets & loaders ----------\n",
    "        train_ds = CarExitSequenceDataset(train_seq, transform=train_tf, target_len=config.SEQ_LEN)\n",
    "        val_ds   = CarExitSequenceDataset(val_seq,   transform=val_tf,   target_len=config.SEQ_LEN)\n",
    "\n",
    "        # Create weighted sampler untuk train set\n",
    "        weighted_sampler = create_weighted_sampler(train_seq, config)\n",
    "\n",
    "        train_loader = DataLoader(\n",
    "            train_ds,\n",
    "            batch_size=config.BATCH_SIZE,\n",
    "            sampler=weighted_sampler,  # gunakan weighted sampler dibandingkan shuffle\n",
    "            num_workers=0,\n",
    "            pin_memory=(device.type == 'cuda'),\n",
    "            collate_fn=seq_collate\n",
    "        )\n",
    "        val_loader = DataLoader(\n",
    "            val_ds,\n",
    "            batch_size=config.BATCH_SIZE,\n",
    "            shuffle=False,\n",
    "            num_workers=0,\n",
    "            pin_memory=(device.type == 'cuda'),\n",
    "            collate_fn=seq_collate\n",
    "        )\n",
    "\n",
    "        model = CNNLSTMModel(\n",
    "            num_classes=config.NUM_CLASSES,\n",
    "            cnn_feature_size=config.CNN_FEATURE_SIZE,   # 2560 for EffNet-B7\n",
    "            adapter_dim=config.FEATURE_ADAPTER_DIM,     # feature adapter dimension\n",
    "            lstm_hidden=config.LSTM_HIDDEN_SIZE,\n",
    "            lstm_layers=config.LSTM_NUM_LAYERS,\n",
    "            bidirectional=config.USE_BIDIRECTIONAL,    # bidirectional LSTM\n",
    "            dropout=config.DROPOUT,\n",
    "            num_attention_heads=config.NUM_ATTENTION_HEADS,  # multi-head attention\n",
    "            use_residual=config.USE_RESIDUAL,          # residual connections\n",
    "            freeze_backbone=True,                       # penting: bekukan CNN\n",
    "        ).to(device)\n",
    "\n",
    "        # jumlah param trainable vs frozen\n",
    "        trainable = sum(p.numel() for p in model.parameters() if p.requires_grad)\n",
    "        frozen    = sum(p.numel() for p in model.parameters() if not p.requires_grad)\n",
    "        logger.info(f\"Trainable params: {trainable:,} | Frozen params: {frozen:,}\")\n",
    "\n",
    "        # ---------- train once (no K-Fold) ----------\n",
    "        run_name = f\"enhanced_cnn_lstm_stage1_{datetime.now().strftime('%Y%m%d_%H%M%S')}\"\n",
    "        best_model, history, best_val_acc = trainer.train_val_once(model, train_loader, val_loader, run_name=run_name)\n",
    "\n",
    "        # ---------- visualize ----------\n",
    "        plot_path = visualize_trainval_history(\n",
    "            history, config,\n",
    "            title=\"Enhanced CNN+LSTM Stage-1 (Freeze CNN + Attention + Residual)\",\n",
    "            best_val_acc=best_val_acc,\n",
    "            filename=\"trainval_history_enhanced_stage1.png\"\n",
    "        )\n",
    "        logger.info(f\"Saved plot: {plot_path}\")\n",
    "\n",
    "        # ---------- save summary ----------\n",
    "        results_summary = {\n",
    "            'timestamp': datetime.now().isoformat(),\n",
    "            'phase': 'Enhanced Stage 1 - CNN+LSTM (freeze CNN, train enhanced LSTM+Attention+FC)',\n",
    "            'model_architecture': 'EfficientNet-B7 (frozen) + Feature Adapter + Multi-Head Attention + Bidirectional LSTM + Residual + Enhanced FC',\n",
    "            'config': {\n",
    "                'model_name': config.MODEL_NAME,\n",
    "                'image_size': config.IMAGE_SIZE,\n",
    "                'seq_len': config.SEQ_LEN,\n",
    "                'batch_size': config.BATCH_SIZE,\n",
    "                'epochs': config.EPOCHS,\n",
    "                'head_lr': getattr(config, \"HEAD_LR\", 1e-3),\n",
    "                'weight_decay': config.WEIGHT_DECAY,\n",
    "                'dropout': config.DROPOUT,\n",
    "                'lstm_hidden': config.LSTM_HIDDEN_SIZE,\n",
    "                'lstm_layers': config.LSTM_NUM_LAYERS,\n",
    "                'freeze_backbone': True,\n",
    "                'feature_adapter_dim': config.FEATURE_ADAPTER_DIM,\n",
    "                'num_attention_heads': config.NUM_ATTENTION_HEADS,\n",
    "                'use_bidirectional': config.USE_BIDIRECTIONAL,\n",
    "                'use_residual': config.USE_RESIDUAL,\n",
    "                'focal_alpha': config.FOCAL_ALPHA,\n",
    "                'focal_gamma': config.FOCAL_GAMMA,\n",
    "                'label_smoothing': config.LABEL_SMOOTHING,\n",
    "                'cosine_t_0': config.COSINE_T_0,\n",
    "                'cosine_t_mult': config.COSINE_T_MULT\n",
    "            },\n",
    "            'data_info': {\n",
    "                'total_sequences': len(sequences),\n",
    "                'train_sequences': len(train_seq),\n",
    "                'val_sequences': len(val_seq),\n",
    "                'class_distribution_sequences': class_counts\n",
    "            },\n",
    "            'final_val': {\n",
    "                'best_val_acc': best_val_acc,\n",
    "                'epochs_ran': len(history.get('val_acc', []))\n",
    "            }\n",
    "        }\n",
    "\n",
    "        os.makedirs(config.RESULTS_DIR, exist_ok=True)\n",
    "        results_path = os.path.join(config.RESULTS_DIR, 'enhanced_stage1_cnnlstm_results.json')\n",
    "        with open(results_path, 'w') as f:\n",
    "            json.dump(results_summary, f, indent=2)\n",
    "        mlflow.log_artifact(results_path)\n",
    "\n",
    "        logger.info(f\"Best Val Accuracy: {best_val_acc:.4f}\")\n",
    "        logger.info(\"\\nSAVED FILES:\")\n",
    "        logger.info(f\"   Best model: {config.MODEL_DIR}/best_cnnlstm_stage1.pth\")\n",
    "        logger.info(f\"   Results summary: {results_path}\")\n",
    "        logger.info(f\"   Visualizations: {config.RESULTS_DIR}/\")\n",
    "        logger.info(f\"   MLFlow tracking: {config.MLFLOW_TRACKING_URI}\")\n",
    "\n",
    "        return best_model, history, results_summary\n",
    "\n",
    "    except Exception as e:\n",
    "        logger.error(f\"Training pipeline failed: {e}\")\n",
    "        import traceback; traceback.print_exc()\n",
    "        return None, None, None"
   ]
  },
  {
   "cell_type": "code",
   "execution_count": 39,
   "metadata": {},
   "outputs": [
    {
     "name": "stdout",
     "output_type": "stream",
     "text": [
      "\n",
      "================ RAW DATA SUMMARY ================\n",
      "Root           : F:\\Codes\\IllegalParkingDetection-Compfest2025\\The Dataset\n",
      "Total sequences: 90\n",
      "  Label 0      : 44 sequences\n",
      "  Label 1      : 46 sequences\n",
      "\n",
      "Sequence length stats (jumlah frame per sequence):\n",
      "  Min/25%/Med/75%/Max : 15 / 16 / 16 / 16 / 26\n",
      "  Mean ± Std          : 16.44 ± 2.07\n",
      "  Contoh histogram (bucket 5‑frame):\n",
      "     15– 19 : 86\n",
      "     25– 29 : 4\n",
      "\n",
      "[INFO] Sequence dengan <16 frame: 1\n",
      "   - 0_vehicle_2_1755184752 (15 frame)\n",
      "\n",
      "[INFO] Sequence dengan >16 frame: 5\n",
      "   - 1_vehicle_20_1754586746 (17 frame)\n",
      "   - 1_vehicle_2_1754587809 (26 frame)\n",
      "   - 1_vehicle_2_1754588679 (26 frame)\n",
      "   - 1_vehicle_4_1754588272 (26 frame)\n",
      "   - 1_vehicle_5_1754585428 (26 frame)\n",
      "\n",
      "[OK] Sampel file gambar valid (cek cepat)\n",
      "\n",
      "Contoh sequence (preview path):\n",
      "  0_event_1_2880 | label=0 | frames=16\n",
      "    first 3 : ['The Dataset\\\\0\\\\event_1_2880\\\\frame_00.jpg', 'The Dataset\\\\0\\\\event_1_2880\\\\frame_01.jpg', 'The Dataset\\\\0\\\\event_1_2880\\\\frame_02.jpg']\n",
      "    last  3 : ['The Dataset\\\\0\\\\event_1_2880\\\\frame_13.jpg', 'The Dataset\\\\0\\\\event_1_2880\\\\frame_14.jpg', 'The Dataset\\\\0\\\\event_1_2880\\\\frame_15.jpg']\n",
      "  0_vehicle_005 | label=0 | frames=16\n",
      "    first 3 : ['The Dataset\\\\0\\\\vehicle_005\\\\frame_000.jpg', 'The Dataset\\\\0\\\\vehicle_005\\\\frame_001.jpg', 'The Dataset\\\\0\\\\vehicle_005\\\\frame_002.jpg']\n",
      "    last  3 : ['The Dataset\\\\0\\\\vehicle_005\\\\frame_013.jpg', 'The Dataset\\\\0\\\\vehicle_005\\\\frame_014.jpg', 'The Dataset\\\\0\\\\vehicle_005\\\\frame_015.jpg']\n",
      "==================================================\n",
      "\n"
     ]
    }
   ],
   "source": [
    "def inspect_dataset_root(data_dir: str, max_corrupt_check_per_seq: int = 3):\n",
    "\n",
    "    \"\"\"\n",
    "    Struktur asumsi:\n",
    "      data_dir/\n",
    "        0/\n",
    "          seq_001/ frame_0001.jpg ...\n",
    "          seq_002/ ...\n",
    "        1/\n",
    "          seq_101/ ...\n",
    "    Output:\n",
    "      - sequences: list[dict] = [{\"sequence_id\", \"label\", \"frame_paths\"}]\n",
    "      - prints: ringkasan super detail soal isi dataset SEBELUM proses apa pun\n",
    "    \"\"\"\n",
    "    \n",
    "    root = Path(data_dir)\n",
    "    if not root.exists():\n",
    "        raise FileNotFoundError(f\"DATA_DIR nggak ada: {root}\")\n",
    "\n",
    "    sequences = []\n",
    "    empty_sequences = []\n",
    "    non_image_files = []\n",
    "    exts_ok = {\".jpg\", \".jpeg\", \".png\", \".bmp\"}\n",
    "\n",
    "    # 1) Scan folder per label\n",
    "    for label in [0, 1]:\n",
    "        class_dir = root / str(label)\n",
    "        if not class_dir.exists():\n",
    "            print(f\"[WARN] Folder kelas tidak ditemukan: {class_dir}\")\n",
    "            continue\n",
    "        seq_dirs = sorted([p for p in class_dir.iterdir() if p.is_dir()])\n",
    "\n",
    "        for sd in seq_dirs:\n",
    "            # kumpulkan file gambar valid (by extension)\n",
    "            all_files = sorted([p for p in sd.iterdir() if p.is_file()])\n",
    "            imgs = [p for p in all_files if p.suffix.lower() in exts_ok]\n",
    "            others = [p for p in all_files if p.suffix.lower() not in exts_ok]\n",
    "            non_image_files.extend(others)\n",
    "\n",
    "            if len(imgs) == 0:\n",
    "                empty_sequences.append(sd)\n",
    "                continue\n",
    "\n",
    "            sequences.append({\n",
    "                \"sequence_id\": f\"{label}_{sd.name}\",\n",
    "                \"label\": label,\n",
    "                \"frame_paths\": [str(p) for p in imgs],  # simpan string path\n",
    "            })\n",
    "\n",
    "    # 2) Ringkasan dasar\n",
    "    n_seq = len(sequences)\n",
    "    by_label = Counter([s[\"label\"] for s in sequences])\n",
    "\n",
    "    print(\"\\n================ RAW DATA SUMMARY ================\")\n",
    "    print(f\"Root           : {root.resolve()}\")\n",
    "    print(f\"Total sequences: {n_seq}\")\n",
    "    for k in sorted(by_label.keys()):\n",
    "        print(f\"  Label {k}      : {by_label[k]} sequences\")\n",
    "\n",
    "    if empty_sequences:\n",
    "        print(f\"\\n[WARN] Empty sequences (tanpa frame): {len(empty_sequences)}\")\n",
    "        for p in empty_sequences[:10]:\n",
    "            print(f\"   - {p}\")\n",
    "        if len(empty_sequences) > 10:\n",
    "            print(f\"   ... ({len(empty_sequences)-10} lagi)\")\n",
    "\n",
    "    if non_image_files:\n",
    "        print(f\"\\n[INFO] Non-image files terdeteksi: {len(non_image_files)}\")\n",
    "        for p in non_image_files[:10]:\n",
    "            print(f\"   - {p.name}\")\n",
    "        if len(non_image_files) > 10:\n",
    "            print(f\"   ... ({len(non_image_files)-10} lagi)\")\n",
    "\n",
    "    # 3) Statistik panjang sequence (jumlah frame)\n",
    "    lens = np.array([len(s[\"frame_paths\"]) for s in sequences], dtype=int)\n",
    "    if len(lens) > 0:\n",
    "        q = np.quantile(lens, [0, 0.25, 0.5, 0.75, 1.0])\n",
    "        print(\"\\nSequence length stats (jumlah frame per sequence):\")\n",
    "        print(f\"  Min/25%/Med/75%/Max : {int(q[0])} / {int(q[1])} / {int(q[2])} / {int(q[3])} / {int(q[4])}\")\n",
    "        print(f\"  Mean ± Std          : {lens.mean():.2f} ± {lens.std():.2f}\")\n",
    "\n",
    "\n",
    "        # histogram sederhana\n",
    "        hist = defaultdict(int)\n",
    "        for L in lens:\n",
    "            # bucketin per 5 frame biar kebaca\n",
    "            bucket = int(L // 5) * 5\n",
    "            hist[bucket] += 1\n",
    "        top = sorted(hist.items())[:10]\n",
    "        print(\"  Contoh histogram (bucket 5‑frame):\")\n",
    "        for b, c in top:\n",
    "            print(f\"    {b:>3d}–{b+4:>3d} : {c}\")\n",
    "        # 3b) Deteksi sequence dengan frame <15 atau >15\n",
    "    too_short = [s for s in sequences if len(s[\"frame_paths\"]) < 16]\n",
    "    too_long  = [s for s in sequences if len(s[\"frame_paths\"]) > 16]\n",
    "\n",
    "    if too_short:\n",
    "        print(f\"\\n[INFO] Sequence dengan <16 frame: {len(too_short)}\")\n",
    "        for s in too_short[:10]:\n",
    "            print(f\"   - {s['sequence_id']} ({len(s['frame_paths'])} frame)\")\n",
    "        if len(too_short) > 10:\n",
    "            print(f\"   ... ({len(too_short)-10} lagi)\")\n",
    "\n",
    "    if too_long:\n",
    "        print(f\"\\n[INFO] Sequence dengan >16 frame: {len(too_long)}\")\n",
    "        for s in too_long[:10]:\n",
    "            print(f\"   - {s['sequence_id']} ({len(s['frame_paths'])} frame)\")\n",
    "        if len(too_long) > 10:\n",
    "            print(f\"   ... ({len(too_long)-10} lagi)\")\n",
    "\n",
    "    # 4) Cek cepat korup/ga kebaca (sample beberapa frame per sequence)\n",
    "    #    Tujuan: sebelum training, kita tahu ada file rusak atau tidak.\n",
    "    bad_images = []\n",
    "    for s in sequences[: min(len(sequences), 50)]:  # batasi 50 seq biar cepat\n",
    "        for p in s[\"frame_paths\"][:max_corrupt_check_per_seq]:\n",
    "            try:\n",
    "                with Image.open(p) as im:\n",
    "                    im.verify()  # cepat, cek header\n",
    "            except Exception as e:\n",
    "                bad_images.append((p, repr(e)))\n",
    "    if bad_images:\n",
    "        print(f\"\\n[ERROR] Ditemukan file gambar korup/tak bisa dibaca: {len(bad_images)}\")\n",
    "        for p, err in bad_images[:10]:\n",
    "            print(f\"   - {p} :: {err}\")\n",
    "        if len(bad_images) > 10:\n",
    "            print(f\"   ... ({len(bad_images)-10} lagi)\")\n",
    "    else:\n",
    "        print(\"\\n[OK] Sampel file gambar valid (cek cepat)\")\n",
    "\n",
    "    # 5) Tampilkan contoh 1–2 sequence (path frame awal/akhir)\n",
    "    print(\"\\nContoh sequence (preview path):\")\n",
    "    for s in sequences[:2]:\n",
    "        fps = s[\"frame_paths\"]\n",
    "        print(f\"  {s['sequence_id']} | label={s['label']} | frames={len(fps)}\")\n",
    "        print(f\"    first 3 : {fps[:3]}\")\n",
    "        print(f\"    last  3 : {fps[-3:]}\")\n",
    "\n",
    "    print(\"==================================================\\n\")\n",
    "    return sequences\n",
    "\n",
    "# === PANGGIL DI SINI ===\n",
    "DATA_DIR = \"The Dataset\"  # ganti sesuai folder dataset kamu\n",
    "sequences = inspect_dataset_root(DATA_DIR)"
   ]
  },
  {
   "cell_type": "code",
   "execution_count": 40,
   "metadata": {},
   "outputs": [],
   "source": [
    "def _build_val_transform(config):\n",
    "\n",
    "    \"\"\"Build validation transform\"\"\"\n",
    "\n",
    "    from torchvision import transforms\n",
    "    return transforms.Compose([\n",
    "        transforms.Resize((256, 256)),\n",
    "        transforms.CenterCrop(config.IMAGE_SIZE),\n",
    "        transforms.ToTensor(),\n",
    "        transforms.Normalize(mean=[0.485,0.456,0.406], std=[0.229,0.224,0.225]),\n",
    "    ])\n",
    "\n",
    "def _load_sequence_frames(seq_dir, transform, target_len):\n",
    "\n",
    "    \"\"\"Load and preprocess sequence frames\"\"\"\n",
    "\n",
    "    exts = ('*.jpg','*.jpeg','*.png','*.bmp')\n",
    "    paths = []\n",
    "    for e in exts:\n",
    "        paths.extend(glob.glob(os.path.join(seq_dir, e)))\n",
    "    paths = sorted(paths)\n",
    "    if len(paths) == 0:\n",
    "        raise FileNotFoundError(f\"No frames found in folder: {seq_dir}\")\n",
    "\n",
    "    # Sample/pad to target_len\n",
    "    if len(paths) >= target_len:\n",
    "        idx = torch.linspace(0, len(paths)-1, steps=target_len).round().long().tolist()\n",
    "        sel = [paths[i] for i in idx]\n",
    "        length = target_len\n",
    "    else:\n",
    "        sel = paths[:]\n",
    "        # Pad with last frame\n",
    "        sel += [paths[-1]] * (target_len - len(paths))\n",
    "        length = len(paths)\n",
    "\n",
    "    # Load & transform -> (T,C,H,W)\n",
    "    frames = []\n",
    "    for p in sel:\n",
    "        img = Image.open(p).convert('RGB')\n",
    "        frames.append(transform(img))\n",
    "    x_tchw = torch.stack(frames, dim=0)  # (T,C,H,W)\n",
    "    return x_tchw, length, sel\n",
    "\n",
    "def run_prediction_test(seq_dir: str):\n",
    "    # gunakan config untuk Enhanced CNN+LSTM\n",
    "    config = CNNLSTMConfig()\n",
    "    device = torch.device('cuda' if torch.cuda.is_available() else 'cpu')\n",
    "\n",
    "    model = CNNLSTMModel(\n",
    "        num_classes=config.NUM_CLASSES,\n",
    "        cnn_feature_size=config.CNN_FEATURE_SIZE,\n",
    "        adapter_dim=config.FEATURE_ADAPTER_DIM,\n",
    "        lstm_hidden=config.LSTM_HIDDEN_SIZE,\n",
    "        lstm_layers=config.LSTM_NUM_LAYERS,\n",
    "        bidirectional=config.USE_BIDIRECTIONAL,\n",
    "        dropout=config.DROPOUT,\n",
    "        num_attention_heads=config.NUM_ATTENTION_HEADS,\n",
    "        use_residual=config.USE_RESIDUAL,\n",
    "        freeze_backbone=True,  \n",
    "    ).to(device)\n",
    "    model.eval()\n",
    "\n",
    "    # load checkpoint stage-1\n",
    "    ckpt_path = os.path.join(config.MODEL_DIR, 'best_cnnlstm_stage1.pth')\n",
    "    if not os.path.exists(ckpt_path):\n",
    "        raise FileNotFoundError(f\"Checkpoint tidak ditemukan: {ckpt_path}\")\n",
    "    ckpt = torch.load(ckpt_path, map_location=device)\n",
    "    model.load_state_dict(ckpt['model_state_dict'])\n",
    "\n",
    "    # siapkan sequence tensor\n",
    "    val_tf = _build_val_transform(config)\n",
    "    x_tchw, length, used_paths = _load_sequence_frames(seq_dir, val_tf, config.SEQ_LEN)\n",
    "\n",
    "    # ke batch: (1,T,C,H,W), lengths: (1,)\n",
    "    x_btchw = x_tchw.unsqueeze(0).to(device)\n",
    "    lengths = torch.tensor([length], dtype=torch.long, device=device)\n",
    "\n",
    "    with torch.no_grad():\n",
    "        logits = model(x_btchw, lengths)        # (1,num_classes)\n",
    "        probs  = F.softmax(logits, dim=1)[0]    # (num_classes,)\n",
    "        pred   = torch.argmax(probs).item()\n",
    "\n",
    "    class_map = {0: 'normal_parking', 1: 'person_exiting'}\n",
    "    result = {\n",
    "        'prediction': pred,\n",
    "        'class_name': class_map.get(pred, str(pred)),\n",
    "        'probabilities': {\n",
    "            'normal_parking': float(probs[0].item()),\n",
    "            'person_exiting': float(probs[1].item())\n",
    "        },\n",
    "        'seq_dir': seq_dir,\n",
    "        'used_frames': used_paths,\n",
    "        'effective_length': int(length),\n",
    "        'target_len': int(config.SEQ_LEN),\n",
    "    }\n",
    "\n",
    "    print(f\"Enhanced Model Prediction: {result['class_name']}\")\n",
    "    print(f\"  normal_parking  : {result['probabilities']['normal_parking']:.4f}\")\n",
    "    print(f\"  person_exiting  : {result['probabilities']['person_exiting']:.4f}\")\n",
    "    print(f\"Frames used: {result['effective_length']}/{result['target_len']} • {seq_dir}\")\n",
    "    return result\n",
    "\n",
    "                \n"
   ]
  },
  {
   "cell_type": "code",
   "execution_count": 41,
   "metadata": {},
   "outputs": [
    {
     "data": {
      "application/vnd.jupyter.widget-view+json": {
       "model_id": "b57a0cbc34d54109aaf14cc16d9877b9",
       "version_major": 2,
       "version_minor": 0
      },
      "text/plain": [
       "Epoch 1/50:   0%|          | 0/18 [00:00<?, ?it/s]"
      ]
     },
     "metadata": {},
     "output_type": "display_data"
    },
    {
     "data": {
      "application/vnd.jupyter.widget-view+json": {
       "model_id": "2707113557554782a4a90c77ef58460f",
       "version_major": 2,
       "version_minor": 0
      },
      "text/plain": [
       "Epoch 2/50:   0%|          | 0/18 [00:00<?, ?it/s]"
      ]
     },
     "metadata": {},
     "output_type": "display_data"
    },
    {
     "data": {
      "application/vnd.jupyter.widget-view+json": {
       "model_id": "b8c9952789ca44fb9b9ccb175a763e99",
       "version_major": 2,
       "version_minor": 0
      },
      "text/plain": [
       "Epoch 3/50:   0%|          | 0/18 [00:00<?, ?it/s]"
      ]
     },
     "metadata": {},
     "output_type": "display_data"
    },
    {
     "data": {
      "application/vnd.jupyter.widget-view+json": {
       "model_id": "cad4f57783304af1a693d075f04279eb",
       "version_major": 2,
       "version_minor": 0
      },
      "text/plain": [
       "Epoch 4/50:   0%|          | 0/18 [00:00<?, ?it/s]"
      ]
     },
     "metadata": {},
     "output_type": "display_data"
    },
    {
     "data": {
      "application/vnd.jupyter.widget-view+json": {
       "model_id": "988cb510be56495aa2a20975e6f097ca",
       "version_major": 2,
       "version_minor": 0
      },
      "text/plain": [
       "Epoch 5/50:   0%|          | 0/18 [00:00<?, ?it/s]"
      ]
     },
     "metadata": {},
     "output_type": "display_data"
    },
    {
     "data": {
      "application/vnd.jupyter.widget-view+json": {
       "model_id": "09114729b3de4eb8aceaec6073a7ab98",
       "version_major": 2,
       "version_minor": 0
      },
      "text/plain": [
       "Epoch 6/50:   0%|          | 0/18 [00:00<?, ?it/s]"
      ]
     },
     "metadata": {},
     "output_type": "display_data"
    },
    {
     "data": {
      "application/vnd.jupyter.widget-view+json": {
       "model_id": "941c86f8cf984bacbefbb26bd49f5961",
       "version_major": 2,
       "version_minor": 0
      },
      "text/plain": [
       "Epoch 7/50:   0%|          | 0/18 [00:00<?, ?it/s]"
      ]
     },
     "metadata": {},
     "output_type": "display_data"
    },
    {
     "data": {
      "application/vnd.jupyter.widget-view+json": {
       "model_id": "6605e136711c4646b98cd8deebe74b7f",
       "version_major": 2,
       "version_minor": 0
      },
      "text/plain": [
       "Epoch 8/50:   0%|          | 0/18 [00:00<?, ?it/s]"
      ]
     },
     "metadata": {},
     "output_type": "display_data"
    },
    {
     "data": {
      "application/vnd.jupyter.widget-view+json": {
       "model_id": "5aeea1fe4c4f4b81b0aa0471fca923b2",
       "version_major": 2,
       "version_minor": 0
      },
      "text/plain": [
       "Epoch 9/50:   0%|          | 0/18 [00:00<?, ?it/s]"
      ]
     },
     "metadata": {},
     "output_type": "display_data"
    },
    {
     "data": {
      "application/vnd.jupyter.widget-view+json": {
       "model_id": "9271b27b54284173a337f41503f2d517",
       "version_major": 2,
       "version_minor": 0
      },
      "text/plain": [
       "Epoch 10/50:   0%|          | 0/18 [00:00<?, ?it/s]"
      ]
     },
     "metadata": {},
     "output_type": "display_data"
    },
    {
     "data": {
      "application/vnd.jupyter.widget-view+json": {
       "model_id": "c3a5a0d48f9b457980cf1ea931e44e42",
       "version_major": 2,
       "version_minor": 0
      },
      "text/plain": [
       "Epoch 11/50:   0%|          | 0/18 [00:00<?, ?it/s]"
      ]
     },
     "metadata": {},
     "output_type": "display_data"
    },
    {
     "data": {
      "application/vnd.jupyter.widget-view+json": {
       "model_id": "679aec3167a146418358a5bd27d8214a",
       "version_major": 2,
       "version_minor": 0
      },
      "text/plain": [
       "Epoch 12/50:   0%|          | 0/18 [00:00<?, ?it/s]"
      ]
     },
     "metadata": {},
     "output_type": "display_data"
    },
    {
     "data": {
      "application/vnd.jupyter.widget-view+json": {
       "model_id": "08dd17e689f44623857c60bc9f548096",
       "version_major": 2,
       "version_minor": 0
      },
      "text/plain": [
       "Epoch 13/50:   0%|          | 0/18 [00:00<?, ?it/s]"
      ]
     },
     "metadata": {},
     "output_type": "display_data"
    },
    {
     "data": {
      "application/vnd.jupyter.widget-view+json": {
       "model_id": "e6296b249f6b46ed820af9e07887d5f0",
       "version_major": 2,
       "version_minor": 0
      },
      "text/plain": [
       "Epoch 14/50:   0%|          | 0/18 [00:00<?, ?it/s]"
      ]
     },
     "metadata": {},
     "output_type": "display_data"
    },
    {
     "data": {
      "application/vnd.jupyter.widget-view+json": {
       "model_id": "f9fd7ffd7a1f4629a34c751326abe56d",
       "version_major": 2,
       "version_minor": 0
      },
      "text/plain": [
       "Epoch 15/50:   0%|          | 0/18 [00:00<?, ?it/s]"
      ]
     },
     "metadata": {},
     "output_type": "display_data"
    },
    {
     "data": {
      "application/vnd.jupyter.widget-view+json": {
       "model_id": "e555ca7ff2334126886792e390889f97",
       "version_major": 2,
       "version_minor": 0
      },
      "text/plain": [
       "Epoch 16/50:   0%|          | 0/18 [00:00<?, ?it/s]"
      ]
     },
     "metadata": {},
     "output_type": "display_data"
    },
    {
     "data": {
      "application/vnd.jupyter.widget-view+json": {
       "model_id": "c96cd19cc7924e2e911542e2000ab18e",
       "version_major": 2,
       "version_minor": 0
      },
      "text/plain": [
       "Epoch 17/50:   0%|          | 0/18 [00:00<?, ?it/s]"
      ]
     },
     "metadata": {},
     "output_type": "display_data"
    },
    {
     "data": {
      "application/vnd.jupyter.widget-view+json": {
       "model_id": "5a8317cdb11f40ac99f7d1f6fea9aff8",
       "version_major": 2,
       "version_minor": 0
      },
      "text/plain": [
       "Epoch 18/50:   0%|          | 0/18 [00:00<?, ?it/s]"
      ]
     },
     "metadata": {},
     "output_type": "display_data"
    },
    {
     "data": {
      "application/vnd.jupyter.widget-view+json": {
       "model_id": "3341d04bb06648e2a70b11bef24dcbf8",
       "version_major": 2,
       "version_minor": 0
      },
      "text/plain": [
       "Epoch 19/50:   0%|          | 0/18 [00:00<?, ?it/s]"
      ]
     },
     "metadata": {},
     "output_type": "display_data"
    },
    {
     "data": {
      "application/vnd.jupyter.widget-view+json": {
       "model_id": "bcb6feadacb7430e90845e291f836169",
       "version_major": 2,
       "version_minor": 0
      },
      "text/plain": [
       "Epoch 20/50:   0%|          | 0/18 [00:00<?, ?it/s]"
      ]
     },
     "metadata": {},
     "output_type": "display_data"
    },
    {
     "data": {
      "application/vnd.jupyter.widget-view+json": {
       "model_id": "7ac0ea3361d2413d955ee5dcc4fdd1f8",
       "version_major": 2,
       "version_minor": 0
      },
      "text/plain": [
       "Epoch 21/50:   0%|          | 0/18 [00:00<?, ?it/s]"
      ]
     },
     "metadata": {},
     "output_type": "display_data"
    },
    {
     "data": {
      "application/vnd.jupyter.widget-view+json": {
       "model_id": "e0e1a03028f040cc8b1db2919ede3853",
       "version_major": 2,
       "version_minor": 0
      },
      "text/plain": [
       "Epoch 22/50:   0%|          | 0/18 [00:00<?, ?it/s]"
      ]
     },
     "metadata": {},
     "output_type": "display_data"
    },
    {
     "data": {
      "application/vnd.jupyter.widget-view+json": {
       "model_id": "b90f2e76ee6a48798d2c16d7b73413da",
       "version_major": 2,
       "version_minor": 0
      },
      "text/plain": [
       "Epoch 23/50:   0%|          | 0/18 [00:00<?, ?it/s]"
      ]
     },
     "metadata": {},
     "output_type": "display_data"
    },
    {
     "data": {
      "application/vnd.jupyter.widget-view+json": {
       "model_id": "ed9089618fb543abbaba49e51da0f689",
       "version_major": 2,
       "version_minor": 0
      },
      "text/plain": [
       "Epoch 24/50:   0%|          | 0/18 [00:00<?, ?it/s]"
      ]
     },
     "metadata": {},
     "output_type": "display_data"
    },
    {
     "data": {
      "application/vnd.jupyter.widget-view+json": {
       "model_id": "697a45e07f494d649cd1c83c882cf9bc",
       "version_major": 2,
       "version_minor": 0
      },
      "text/plain": [
       "Epoch 25/50:   0%|          | 0/18 [00:00<?, ?it/s]"
      ]
     },
     "metadata": {},
     "output_type": "display_data"
    },
    {
     "data": {
      "application/vnd.jupyter.widget-view+json": {
       "model_id": "42d53c320730492f8dc6e1797fe5be06",
       "version_major": 2,
       "version_minor": 0
      },
      "text/plain": [
       "Epoch 26/50:   0%|          | 0/18 [00:00<?, ?it/s]"
      ]
     },
     "metadata": {},
     "output_type": "display_data"
    },
    {
     "data": {
      "application/vnd.jupyter.widget-view+json": {
       "model_id": "0970e957ffa945ee9f66c0177abb5514",
       "version_major": 2,
       "version_minor": 0
      },
      "text/plain": [
       "Epoch 27/50:   0%|          | 0/18 [00:00<?, ?it/s]"
      ]
     },
     "metadata": {},
     "output_type": "display_data"
    },
    {
     "data": {
      "application/vnd.jupyter.widget-view+json": {
       "model_id": "08291447b1de4b829ab979f7bf3a6ca3",
       "version_major": 2,
       "version_minor": 0
      },
      "text/plain": [
       "Epoch 28/50:   0%|          | 0/18 [00:00<?, ?it/s]"
      ]
     },
     "metadata": {},
     "output_type": "display_data"
    },
    {
     "data": {
      "application/vnd.jupyter.widget-view+json": {
       "model_id": "d6249d3f732d4222bc898aa2ed0b8603",
       "version_major": 2,
       "version_minor": 0
      },
      "text/plain": [
       "Epoch 29/50:   0%|          | 0/18 [00:00<?, ?it/s]"
      ]
     },
     "metadata": {},
     "output_type": "display_data"
    },
    {
     "data": {
      "application/vnd.jupyter.widget-view+json": {
       "model_id": "abee7989a3d94885adfa61b22c1c72e1",
       "version_major": 2,
       "version_minor": 0
      },
      "text/plain": [
       "Epoch 30/50:   0%|          | 0/18 [00:00<?, ?it/s]"
      ]
     },
     "metadata": {},
     "output_type": "display_data"
    },
    {
     "data": {
      "application/vnd.jupyter.widget-view+json": {
       "model_id": "4784f21021544385980f2576bb8b8dc5",
       "version_major": 2,
       "version_minor": 0
      },
      "text/plain": [
       "Epoch 31/50:   0%|          | 0/18 [00:00<?, ?it/s]"
      ]
     },
     "metadata": {},
     "output_type": "display_data"
    },
    {
     "data": {
      "application/vnd.jupyter.widget-view+json": {
       "model_id": "c00c410046574edfa14e3435eec62a55",
       "version_major": 2,
       "version_minor": 0
      },
      "text/plain": [
       "Epoch 32/50:   0%|          | 0/18 [00:00<?, ?it/s]"
      ]
     },
     "metadata": {},
     "output_type": "display_data"
    },
    {
     "data": {
      "application/vnd.jupyter.widget-view+json": {
       "model_id": "512f28948352495c84bdff3f336f3ae2",
       "version_major": 2,
       "version_minor": 0
      },
      "text/plain": [
       "Epoch 33/50:   0%|          | 0/18 [00:00<?, ?it/s]"
      ]
     },
     "metadata": {},
     "output_type": "display_data"
    },
    {
     "data": {
      "application/vnd.jupyter.widget-view+json": {
       "model_id": "08b7b1ad3d9d44f4b26c2aab550dad3f",
       "version_major": 2,
       "version_minor": 0
      },
      "text/plain": [
       "Epoch 34/50:   0%|          | 0/18 [00:00<?, ?it/s]"
      ]
     },
     "metadata": {},
     "output_type": "display_data"
    },
    {
     "data": {
      "application/vnd.jupyter.widget-view+json": {
       "model_id": "1a38b6db6a0347debc43a3ca2fd6e0e0",
       "version_major": 2,
       "version_minor": 0
      },
      "text/plain": [
       "Epoch 35/50:   0%|          | 0/18 [00:00<?, ?it/s]"
      ]
     },
     "metadata": {},
     "output_type": "display_data"
    },
    {
     "data": {
      "application/vnd.jupyter.widget-view+json": {
       "model_id": "ad20dfdeafb64b8eb91ad30610716fb4",
       "version_major": 2,
       "version_minor": 0
      },
      "text/plain": [
       "Epoch 36/50:   0%|          | 0/18 [00:00<?, ?it/s]"
      ]
     },
     "metadata": {},
     "output_type": "display_data"
    },
    {
     "data": {
      "application/vnd.jupyter.widget-view+json": {
       "model_id": "51dabc816d524c039ed02f59b746e388",
       "version_major": 2,
       "version_minor": 0
      },
      "text/plain": [
       "Epoch 37/50:   0%|          | 0/18 [00:00<?, ?it/s]"
      ]
     },
     "metadata": {},
     "output_type": "display_data"
    },
    {
     "data": {
      "application/vnd.jupyter.widget-view+json": {
       "model_id": "802d1d4f83ca4d809d2c53b786535b29",
       "version_major": 2,
       "version_minor": 0
      },
      "text/plain": [
       "Epoch 38/50:   0%|          | 0/18 [00:00<?, ?it/s]"
      ]
     },
     "metadata": {},
     "output_type": "display_data"
    },
    {
     "data": {
      "application/vnd.jupyter.widget-view+json": {
       "model_id": "4edbbe8f544b429ca0933b0bbff368d9",
       "version_major": 2,
       "version_minor": 0
      },
      "text/plain": [
       "Epoch 39/50:   0%|          | 0/18 [00:00<?, ?it/s]"
      ]
     },
     "metadata": {},
     "output_type": "display_data"
    },
    {
     "data": {
      "application/vnd.jupyter.widget-view+json": {
       "model_id": "cc721c4fc36d4611a3ddb5a632d1e329",
       "version_major": 2,
       "version_minor": 0
      },
      "text/plain": [
       "Epoch 40/50:   0%|          | 0/18 [00:00<?, ?it/s]"
      ]
     },
     "metadata": {},
     "output_type": "display_data"
    },
    {
     "data": {
      "application/vnd.jupyter.widget-view+json": {
       "model_id": "d4a9d283c3994342a384fbe4a0209988",
       "version_major": 2,
       "version_minor": 0
      },
      "text/plain": [
       "Epoch 41/50:   0%|          | 0/18 [00:00<?, ?it/s]"
      ]
     },
     "metadata": {},
     "output_type": "display_data"
    },
    {
     "data": {
      "application/vnd.jupyter.widget-view+json": {
       "model_id": "9567238da21f4020bc1cf75df1006d6a",
       "version_major": 2,
       "version_minor": 0
      },
      "text/plain": [
       "Epoch 42/50:   0%|          | 0/18 [00:00<?, ?it/s]"
      ]
     },
     "metadata": {},
     "output_type": "display_data"
    },
    {
     "data": {
      "application/vnd.jupyter.widget-view+json": {
       "model_id": "859bd26ec0c94db18d3b0daf52eb99e8",
       "version_major": 2,
       "version_minor": 0
      },
      "text/plain": [
       "Epoch 43/50:   0%|          | 0/18 [00:00<?, ?it/s]"
      ]
     },
     "metadata": {},
     "output_type": "display_data"
    },
    {
     "data": {
      "application/vnd.jupyter.widget-view+json": {
       "model_id": "28bd8dec69be4756bbdf3f4639012ae1",
       "version_major": 2,
       "version_minor": 0
      },
      "text/plain": [
       "Epoch 44/50:   0%|          | 0/18 [00:00<?, ?it/s]"
      ]
     },
     "metadata": {},
     "output_type": "display_data"
    },
    {
     "data": {
      "application/vnd.jupyter.widget-view+json": {
       "model_id": "50030db8e5b0422fb00fca18d14a8ff7",
       "version_major": 2,
       "version_minor": 0
      },
      "text/plain": [
       "Epoch 45/50:   0%|          | 0/18 [00:00<?, ?it/s]"
      ]
     },
     "metadata": {},
     "output_type": "display_data"
    },
    {
     "data": {
      "application/vnd.jupyter.widget-view+json": {
       "model_id": "2a0335ef6eee41f2940008d646de6c41",
       "version_major": 2,
       "version_minor": 0
      },
      "text/plain": [
       "Epoch 46/50:   0%|          | 0/18 [00:00<?, ?it/s]"
      ]
     },
     "metadata": {},
     "output_type": "display_data"
    },
    {
     "data": {
      "application/vnd.jupyter.widget-view+json": {
       "model_id": "b11f72593d324fff8efc3de2a998d364",
       "version_major": 2,
       "version_minor": 0
      },
      "text/plain": [
       "Epoch 47/50:   0%|          | 0/18 [00:00<?, ?it/s]"
      ]
     },
     "metadata": {},
     "output_type": "display_data"
    },
    {
     "data": {
      "application/vnd.jupyter.widget-view+json": {
       "model_id": "7600d8371c3b4d8687ed084bbe5bc09e",
       "version_major": 2,
       "version_minor": 0
      },
      "text/plain": [
       "Epoch 48/50:   0%|          | 0/18 [00:00<?, ?it/s]"
      ]
     },
     "metadata": {},
     "output_type": "display_data"
    },
    {
     "data": {
      "application/vnd.jupyter.widget-view+json": {
       "model_id": "219cd0081dca4379b6a2c4e697694233",
       "version_major": 2,
       "version_minor": 0
      },
      "text/plain": [
       "Epoch 49/50:   0%|          | 0/18 [00:00<?, ?it/s]"
      ]
     },
     "metadata": {},
     "output_type": "display_data"
    },
    {
     "data": {
      "application/vnd.jupyter.widget-view+json": {
       "model_id": "a7db2952937f4d70afede0467d9229d7",
       "version_major": 2,
       "version_minor": 0
      },
      "text/plain": [
       "Epoch 50/50:   0%|          | 0/18 [00:00<?, ?it/s]"
      ]
     },
     "metadata": {},
     "output_type": "display_data"
    },
    {
     "data": {
      "image/png": "[encoded data removed]",
      "text/plain": [
       "<Figure size 1200x500 with 2 Axes>"
      ]
     },
     "metadata": {},
     "output_type": "display_data"
    },
    {
     "name": "stdout",
     "output_type": "stream",
     "text": [
      "Enhanced Model Prediction: normal_parking\n",
      "  normal_parking  : 0.8356\n",
      "  person_exiting  : 0.1644\n",
      "Frames used: 16/16 • The Dataset/1/event_v004_p048_295\n"
     ]
    }
   ],
   "source": [
    "\n",
    "best_model, history, results = main()\n",
    "\n",
    "if best_model is not None:\n",
    "    # ganti path ini dengan folder sequence yang mau kamu tes\n",
    "    seq_dir = \"The Dataset/1/event_v004_p048_295\"   # <-- contoh\n",
    "    try:\n",
    "        result = run_prediction_test(seq_dir=seq_dir)\n",
    "    except Exception as e:\n",
    "        logger.error(f\"Prediction test failed: {e}\")\n",
    "else:\n",
    "    logger.error(\"\\nStage 1 CNN+LSTM implementation failed\")\n"
   ]
  },
  {
   "cell_type": "code",
   "execution_count": 42,
   "metadata": {},
   "outputs": [
    {
     "name": "stdout",
     "output_type": "stream",
     "text": [
      "Enhanced Model Prediction: person_exiting\n",
      "  normal_parking  : 0.3217\n",
      "  person_exiting  : 0.6783\n",
      "Frames used: 16/16 • The Dataset/1/vehicle_1_1754727365\n"
     ]
    }
   ],
   "source": [
    "seq_dir = \"The Dataset/1/vehicle_1_1754727365\"   # <-- contoh\n",
    "try:\n",
    "    result = run_prediction_test(seq_dir=seq_dir)\n",
    "except Exception as e:\n",
    "    logger.error(f\"Prediction test failed: {e}\")"
   ]
  }
 ],
 "metadata": {
  "kernelspec": {
   "display_name": "Python 3",
   "language": "python",
   "name": "python3"
  },
  "language_info": {
   "codemirror_mode": {
    "name": "ipython",
    "version": 3
   },
   "file_extension": ".py",
   "mimetype": "text/x-python",
   "name": "python",
   "nbconvert_exporter": "python",
   "pygments_lexer": "ipython3",
   "version": "3.11.4"
  }
 },
 "nbformat": 4,
 "nbformat_minor": 2
}
